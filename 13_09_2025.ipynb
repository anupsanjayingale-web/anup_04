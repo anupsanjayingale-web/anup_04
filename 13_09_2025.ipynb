{
  "nbformat": 4,
  "nbformat_minor": 0,
  "metadata": {
    "colab": {
      "provenance": []
    },
    "kernelspec": {
      "name": "python3",
      "display_name": "Python 3"
    },
    "language_info": {
      "name": "python"
    }
  },
  "cells": [
    {
      "cell_type": "code",
      "source": [
        "name=(\"i'am sharath\")\n",
        "college=(\"i'am studing in bk college\")\n",
        "degree=(\",in bca\")\n",
        "roll=(\"my roll no is 101\")\n",
        "print(name,college,degree,roll)"
      ],
      "metadata": {
        "colab": {
          "base_uri": "https://localhost:8080/"
        },
        "id": "qCD63f5A5DK1",
        "outputId": "b9f6a720-f4ab-4ae8-bfe9-d6292752d3cb"
      },
      "execution_count": 5,
      "outputs": [
        {
          "output_type": "stream",
          "name": "stdout",
          "text": [
            "i'am sharath i'am studing in bk college ,in bca my roll no is 101\n"
          ]
        }
      ]
    },
    {
      "cell_type": "code",
      "source": [
        "name,college,degree,roll=\"sharath\",\"bk college\",\"bca\",\"101\"\n",
        "print(\"hi,good morning,i'm\",name,\".im studing\",degree,\"in\",college,\"college at chikodi\",\"my roll number is\",roll)"
      ],
      "metadata": {
        "colab": {
          "base_uri": "https://localhost:8080/"
        },
        "id": "OcKlXvMf4Aol",
        "outputId": "ccf5a0dd-655e-4097-d9a1-f7b32699f214"
      },
      "execution_count": 6,
      "outputs": [
        {
          "output_type": "stream",
          "name": "stdout",
          "text": [
            "hi,good morning,i'm sharath .im studing bca in bk college college at chikodi my roll number is 101\n"
          ]
        }
      ]
    },
    {
      "cell_type": "code",
      "execution_count": 1,
      "metadata": {
        "colab": {
          "base_uri": "https://localhost:8080/"
        },
        "id": "HF-Hs9yt2X9Q",
        "outputId": "36ebfa08-43aa-4476-a90a-0fdbaba7ae0e"
      },
      "outputs": [
        {
          "output_type": "stream",
          "name": "stdout",
          "text": [
            "good morning 18\n"
          ]
        }
      ],
      "source": [
        "a,b,c=\"good\", \"morning\",18\n",
        "print(a,b,c)"
      ]
    },
    {
      "cell_type": "code",
      "source": [
        "X=Y=Z=2002\n",
        "print(X,Y,Z)"
      ],
      "metadata": {
        "colab": {
          "base_uri": "https://localhost:8080/"
        },
        "id": "38EKqYJ67wEk",
        "outputId": "27a062bf-2929-4a70-a2e3-f447dad8f804"
      },
      "execution_count": 7,
      "outputs": [
        {
          "output_type": "stream",
          "name": "stdout",
          "text": [
            "2002 2002 2002\n"
          ]
        }
      ]
    },
    {
      "cell_type": "code",
      "source": [
        "A=B,C=\"COLLEGE\",25\n",
        "print(B,C,A)"
      ],
      "metadata": {
        "colab": {
          "base_uri": "https://localhost:8080/"
        },
        "id": "M-bZWqXx8KOb",
        "outputId": "408b2e42-d7f1-4f2e-a9b2-b6b058fb9a8e"
      },
      "execution_count": 9,
      "outputs": [
        {
          "output_type": "stream",
          "name": "stdout",
          "text": [
            "COLLEGE 25 ('COLLEGE', 25)\n"
          ]
        }
      ]
    },
    {
      "cell_type": "code",
      "source": [
        "A=10\n",
        "B=20\n",
        "print(A+B)"
      ],
      "metadata": {
        "colab": {
          "base_uri": "https://localhost:8080/"
        },
        "id": "yFPpcvsj8ruz",
        "outputId": "1cbb8c3f-9ea5-4ef3-dd10-80c0880d519d"
      },
      "execution_count": 10,
      "outputs": [
        {
          "output_type": "stream",
          "name": "stdout",
          "text": [
            "30\n"
          ]
        }
      ]
    },
    {
      "cell_type": "code",
      "source": [
        "A=10\n",
        "B=20\n",
        "print(\"ADDITION OF \",A, \"AND\",B, \"IS=\",A+B)"
      ],
      "metadata": {
        "colab": {
          "base_uri": "https://localhost:8080/"
        },
        "id": "M00Unn5P9CoD",
        "outputId": "536fc600-acfa-4528-a7c2-4bc209c9dae9"
      },
      "execution_count": 15,
      "outputs": [
        {
          "output_type": "stream",
          "name": "stdout",
          "text": [
            "ADDITION OF  10 AND 20 IS= 30\n"
          ]
        }
      ]
    },
    {
      "cell_type": "code",
      "source": [
        "A=100\n",
        "B=2\n",
        "print(\"ADDTION OF \",A,\"AND\",B,\"IS=\",A+B)"
      ],
      "metadata": {
        "colab": {
          "base_uri": "https://localhost:8080/"
        },
        "id": "WUmsvtAA-DSD",
        "outputId": "2696443c-70c2-42b9-e965-7bb7d385774e"
      },
      "execution_count": 17,
      "outputs": [
        {
          "output_type": "stream",
          "name": "stdout",
          "text": [
            "ADDTION OF  100 AND 2 IS= 102\n"
          ]
        }
      ]
    },
    {
      "cell_type": "markdown",
      "source": [],
      "metadata": {
        "id": "NHohzhbU_rL7"
      }
    },
    {
      "cell_type": "code",
      "source": [
        "A=-35\n",
        "print(type(-35))"
      ],
      "metadata": {
        "colab": {
          "base_uri": "https://localhost:8080/"
        },
        "id": "HZoFgvVDAAUx",
        "outputId": "71e0854f-eecc-4fe8-a6b5-afc940f8fc0f"
      },
      "execution_count": 21,
      "outputs": [
        {
          "output_type": "stream",
          "name": "stdout",
          "text": [
            "<class 'int'>\n"
          ]
        }
      ]
    },
    {
      "cell_type": "code",
      "source": [
        "A=+200\n",
        "print(type(+200))"
      ],
      "metadata": {
        "colab": {
          "base_uri": "https://localhost:8080/"
        },
        "id": "RBkNYjFaCsJi",
        "outputId": "bf63f7a6-d066-4807-e02a-7e2d5bbb766a"
      },
      "execution_count": 22,
      "outputs": [
        {
          "output_type": "stream",
          "name": "stdout",
          "text": [
            "<class 'int'>\n"
          ]
        }
      ]
    },
    {
      "cell_type": "code",
      "source": [
        "A=1000\n",
        "print(type(A))"
      ],
      "metadata": {
        "colab": {
          "base_uri": "https://localhost:8080/"
        },
        "id": "BKz3DmQ9Dbka",
        "outputId": "72315dc7-99b7-4359-9381-7d344d818bf8"
      },
      "execution_count": 23,
      "outputs": [
        {
          "output_type": "stream",
          "name": "stdout",
          "text": [
            "<class 'int'>\n"
          ]
        }
      ]
    },
    {
      "cell_type": "code",
      "source": [
        "A=10.80\n",
        "print(type(A))"
      ],
      "metadata": {
        "colab": {
          "base_uri": "https://localhost:8080/"
        },
        "id": "L3Haj9paEiwj",
        "outputId": "3ea0968f-1d24-434a-f3c5-817d838dc458"
      },
      "execution_count": 24,
      "outputs": [
        {
          "output_type": "stream",
          "name": "stdout",
          "text": [
            "<class 'float'>\n"
          ]
        }
      ]
    },
    {
      "cell_type": "code",
      "source": [
        "RUN=+20.1\n",
        "print(type(RUN))"
      ],
      "metadata": {
        "colab": {
          "base_uri": "https://localhost:8080/"
        },
        "id": "7Ql824BUFPCG",
        "outputId": "7f84eafa-3958-4dc0-c81f-6947ce6ae967"
      },
      "execution_count": 25,
      "outputs": [
        {
          "output_type": "stream",
          "name": "stdout",
          "text": [
            "<class 'float'>\n"
          ]
        }
      ]
    },
    {
      "cell_type": "code",
      "source": [
        "yes=True\n",
        "print(type(yes))"
      ],
      "metadata": {
        "colab": {
          "base_uri": "https://localhost:8080/"
        },
        "id": "W58jJPV4GIcb",
        "outputId": "23828a7c-1e19-4dfb-fbf2-08e077c60308"
      },
      "execution_count": 26,
      "outputs": [
        {
          "output_type": "stream",
          "name": "stdout",
          "text": [
            "<class 'bool'>\n"
          ]
        }
      ]
    },
    {
      "cell_type": "code",
      "source": [
        "yes=18\n",
        "print(type(yes))"
      ],
      "metadata": {
        "colab": {
          "base_uri": "https://localhost:8080/"
        },
        "id": "_wdVjd-EGksy",
        "outputId": "2af46fb7-feaf-4e4a-c021-ec532252b159"
      },
      "execution_count": 27,
      "outputs": [
        {
          "output_type": "stream",
          "name": "stdout",
          "text": [
            "<class 'int'>\n"
          ]
        }
      ]
    },
    {
      "cell_type": "code",
      "source": [
        "yes =\"false\"\n",
        "print(type(yes))"
      ],
      "metadata": {
        "colab": {
          "base_uri": "https://localhost:8080/"
        },
        "id": "PWVkGERAGsJr",
        "outputId": "8ea8e409-5cd0-41ae-e0d6-f12616179d36"
      },
      "execution_count": 28,
      "outputs": [
        {
          "output_type": "stream",
          "name": "stdout",
          "text": [
            "<class 'str'>\n"
          ]
        }
      ]
    },
    {
      "cell_type": "code",
      "source": [
        "value=\"27.1\"\n",
        "print(type(value))"
      ],
      "metadata": {
        "colab": {
          "base_uri": "https://localhost:8080/"
        },
        "id": "8F_ufrfQHdCL",
        "outputId": "e91c3d5c-2dae-4df5-83e5-1b3953224c7f"
      },
      "execution_count": 29,
      "outputs": [
        {
          "output_type": "stream",
          "name": "stdout",
          "text": [
            "<class 'str'>\n"
          ]
        }
      ]
    },
    {
      "cell_type": "code",
      "source": [
        "roll_no=39\n",
        "print(roll_no)"
      ],
      "metadata": {
        "colab": {
          "base_uri": "https://localhost:8080/"
        },
        "id": "250WLOG5ICRr",
        "outputId": "6123929d-fac1-4de1-cc57-3b496bae5911"
      },
      "execution_count": 31,
      "outputs": [
        {
          "output_type": "stream",
          "name": "stdout",
          "text": [
            "39\n"
          ]
        }
      ]
    },
    {
      "cell_type": "code",
      "source": [
        "roll_no=1\n",
        "print(roll_no)"
      ],
      "metadata": {
        "colab": {
          "base_uri": "https://localhost:8080/"
        },
        "id": "4kQzP3LDKizZ",
        "outputId": "33173e00-a2fa-44b8-919d-3fad5c7e5997"
      },
      "execution_count": 32,
      "outputs": [
        {
          "output_type": "stream",
          "name": "stdout",
          "text": [
            "1\n"
          ]
        }
      ]
    },
    {
      "cell_type": "code",
      "source": [
        "roll_no=2\n",
        "print(roll_no)"
      ],
      "metadata": {
        "colab": {
          "base_uri": "https://localhost:8080/"
        },
        "id": "LEx8cseOKpHx",
        "outputId": "b1e5f37c-962f-4399-ddc0-861e912473d0"
      },
      "execution_count": 33,
      "outputs": [
        {
          "output_type": "stream",
          "name": "stdout",
          "text": [
            "2\n"
          ]
        }
      ]
    },
    {
      "cell_type": "code",
      "source": [
        "roll_no=3\n",
        "print(roll_no)"
      ],
      "metadata": {
        "colab": {
          "base_uri": "https://localhost:8080/"
        },
        "id": "gTn_LtDNKuph",
        "outputId": "1c2b3655-c553-4c92-f87e-cd156fc738d9"
      },
      "execution_count": 34,
      "outputs": [
        {
          "output_type": "stream",
          "name": "stdout",
          "text": [
            "3\n"
          ]
        }
      ]
    },
    {
      "cell_type": "code",
      "source": [
        "string=\"python programing languges\"\n",
        "print(type(string))"
      ],
      "metadata": {
        "colab": {
          "base_uri": "https://localhost:8080/"
        },
        "id": "-tsnaHFzLCQb",
        "outputId": "f22f5d5e-89b6-4966-bd94-20cbb598f551"
      },
      "execution_count": 35,
      "outputs": [
        {
          "output_type": "stream",
          "name": "stdout",
          "text": [
            "<class 'str'>\n"
          ]
        }
      ]
    },
    {
      "cell_type": "code",
      "source": [
        "frist=\"bkc\"\n",
        "second=\"collge\"\n",
        "print((frist+second)*5)"
      ],
      "metadata": {
        "colab": {
          "base_uri": "https://localhost:8080/"
        },
        "id": "BS9JmpQyMn4x",
        "outputId": "203b0864-8b6e-4c40-e3fd-db91c0cc9805"
      },
      "execution_count": 42,
      "outputs": [
        {
          "output_type": "stream",
          "name": "stdout",
          "text": [
            "bkccollgebkccollgebkccollgebkccollgebkccollge\n"
          ]
        }
      ]
    },
    {
      "cell_type": "code",
      "source": [
        "frist=\"bkc\"\n",
        "second=\"collge\"\n",
        "print(((frist+second)+\"\\n\")*5)"
      ],
      "metadata": {
        "colab": {
          "base_uri": "https://localhost:8080/"
        },
        "id": "_0JOs5cyPgXj",
        "outputId": "4dde4ebf-a208-494c-840e-339e8a8d986f"
      },
      "execution_count": 46,
      "outputs": [
        {
          "output_type": "stream",
          "name": "stdout",
          "text": [
            "bkccollge\n",
            "bkccollge\n",
            "bkccollge\n",
            "bkccollge\n",
            "bkccollge\n",
            "\n"
          ]
        }
      ]
    },
    {
      "cell_type": "code",
      "source": [
        "name=\"python progrmmig languges\"\n",
        "print(name[0])"
      ],
      "metadata": {
        "id": "PipXNOQWSU_w",
        "outputId": "d70e6e26-42eb-4549-9715-b23eeaae646d",
        "colab": {
          "base_uri": "https://localhost:8080/"
        }
      },
      "execution_count": 48,
      "outputs": [
        {
          "output_type": "stream",
          "name": "stdout",
          "text": [
            "p\n"
          ]
        }
      ]
    },
    {
      "cell_type": "code",
      "source": [
        "name=\"python progrmmig languges\"\n",
        "print(name[5:9])"
      ],
      "metadata": {
        "id": "CVl4yDzcSw9a",
        "outputId": "48af8bce-f33e-4813-bcdc-e74417c73eea",
        "colab": {
          "base_uri": "https://localhost:8080/"
        }
      },
      "execution_count": 50,
      "outputs": [
        {
          "output_type": "stream",
          "name": "stdout",
          "text": [
            "n pr\n"
          ]
        }
      ]
    },
    {
      "cell_type": "code",
      "source": [
        "name=\"python progarming languges\"\n",
        "print(name[5:9])"
      ],
      "metadata": {
        "id": "i08tu6f3TgyR",
        "outputId": "9411db34-6712-4162-ce58-fdb87ac2711a",
        "colab": {
          "base_uri": "https://localhost:8080/"
        }
      },
      "execution_count": 54,
      "outputs": [
        {
          "output_type": "stream",
          "name": "stdout",
          "text": [
            "n pr\n"
          ]
        }
      ]
    },
    {
      "cell_type": "code",
      "source": [
        "name=\"programing languges\"\n",
        "print(name[:-1])"
      ],
      "metadata": {
        "id": "o45Vt5uGT9cY",
        "outputId": "63842642-eafa-4417-e25f-8d168091067b",
        "colab": {
          "base_uri": "https://localhost:8080/"
        }
      },
      "execution_count": 55,
      "outputs": [
        {
          "output_type": "stream",
          "name": "stdout",
          "text": [
            "programing languge\n"
          ]
        }
      ]
    },
    {
      "cell_type": "code",
      "source": [
        "name=\"python programming languges\"\n",
        "print(name[-1-22])"
      ],
      "metadata": {
        "id": "-6GEX97EUzm-",
        "outputId": "822363a6-23c8-4788-8c0b-ba3a8644d209",
        "colab": {
          "base_uri": "https://localhost:8080/"
        }
      },
      "execution_count": 57,
      "outputs": [
        {
          "output_type": "stream",
          "name": "stdout",
          "text": [
            "o\n"
          ]
        }
      ]
    },
    {
      "cell_type": "code",
      "source": [
        "name=\"python programming languges\"\n",
        "print(name[::2])"
      ],
      "metadata": {
        "id": "4jX5jZ4nViG4",
        "outputId": "535ee1f9-605d-4eec-a135-8667cfd0847a",
        "colab": {
          "base_uri": "https://localhost:8080/"
        }
      },
      "execution_count": 58,
      "outputs": [
        {
          "output_type": "stream",
          "name": "stdout",
          "text": [
            "pto rgamn aggs\n"
          ]
        }
      ]
    },
    {
      "cell_type": "code",
      "source": [
        "name=\"python programming languges\"\n",
        "print(name[::-1])"
      ],
      "metadata": {
        "id": "UwA0xaIvVigM",
        "outputId": "1b395919-c272-423d-dc34-db67ec691660",
        "colab": {
          "base_uri": "https://localhost:8080/"
        }
      },
      "execution_count": 59,
      "outputs": [
        {
          "output_type": "stream",
          "name": "stdout",
          "text": [
            "segugnal gnimmargorp nohtyp\n"
          ]
        }
      ]
    },
    {
      "cell_type": "code",
      "source": [
        "name=\"python programming languges\"\n",
        "print(name[::-3])"
      ],
      "metadata": {
        "id": "lSlLlD_sWNpo",
        "outputId": "3ecf0af1-19b7-4867-f587-8da743ba5ee8",
        "colab": {
          "base_uri": "https://localhost:8080/"
        }
      },
      "execution_count": 60,
      "outputs": [
        {
          "output_type": "stream",
          "name": "stdout",
          "text": [
            "suagmrrnt\n"
          ]
        }
      ]
    },
    {
      "cell_type": "code",
      "source": [
        "name=\"python programing language\"\n",
        "print(name[::-3])"
      ],
      "metadata": {
        "id": "I0u2941FW7Dv",
        "outputId": "614d6250-0232-45f4-a3bd-3cad93f03832",
        "colab": {
          "base_uri": "https://localhost:8080/"
        }
      },
      "execution_count": 62,
      "outputs": [
        {
          "output_type": "stream",
          "name": "stdout",
          "text": [
            "euagmgpoy\n"
          ]
        }
      ]
    },
    {
      "cell_type": "code",
      "source": [
        "details='''multi line comments hi,good morning'''\n",
        "print(details)"
      ],
      "metadata": {
        "id": "RpdjMg_nYaU2",
        "outputId": "3a9166de-9b57-4eac-97e7-e3aa81b3470c",
        "colab": {
          "base_uri": "https://localhost:8080/"
        }
      },
      "execution_count": 63,
      "outputs": [
        {
          "output_type": "stream",
          "name": "stdout",
          "text": [
            "multi line comments hi,good morning\n"
          ]
        }
      ]
    },
    {
      "cell_type": "code",
      "source": [
        "details='''multi line comments hi,good morning'''\n",
        "print(details)"
      ],
      "metadata": {
        "id": "2RoMQKhUZXdq",
        "outputId": "72dd57e4-94f7-41ea-87ba-73085b00f074",
        "colab": {
          "base_uri": "https://localhost:8080/"
        }
      },
      "execution_count": 64,
      "outputs": [
        {
          "output_type": "stream",
          "name": "stdout",
          "text": [
            "multi line comments hi,good morning\n"
          ]
        }
      ]
    },
    {
      "cell_type": "code",
      "source": [
        "rollno=1,2,3,4,5,6,7,8,9,10,11,12,13,14,15,16,17,18,19,20,21,22,23,24,25,26,27,28,29,30,31,32,33,34,35,36,37,38,39,40,41,42,43,44,45,46,47,48,49,50,51,52,53,54,55,56,57,58,59,60\n",
        "print(rollno)"
      ],
      "metadata": {
        "id": "Uqy37QpmZ6yK",
        "outputId": "a39deb8c-6b9f-4bc5-c236-fdc2643d54a7",
        "colab": {
          "base_uri": "https://localhost:8080/"
        }
      },
      "execution_count": 66,
      "outputs": [
        {
          "output_type": "stream",
          "name": "stdout",
          "text": [
            "(1, 2, 3, 4, 5, 6, 7, 8, 9, 10, 11, 12, 13, 14, 15, 16, 17, 18, 19, 20, 21, 22, 23, 24, 25, 26, 27, 28, 29, 30, 31, 32, 33, 34, 35, 36, 37, 38, 39, 40, 41, 42, 43, 44, 45, 46, 47, 48, 49, 50, 51, 52, 53, 54, 55, 56, 57, 58, 59, 60)\n"
          ]
        }
      ]
    },
    {
      "cell_type": "code",
      "source": [
        "list1=[list]\n",
        "print(type(list1))"
      ],
      "metadata": {
        "id": "p-xj1PpumW49",
        "outputId": "2046bb93-adb9-4abe-9fa7-9336304d6489",
        "colab": {
          "base_uri": "https://localhost:8080/"
        }
      },
      "execution_count": 68,
      "outputs": [
        {
          "output_type": "stream",
          "name": "stdout",
          "text": [
            "<class 'list'>\n",
            "<class 'list'>\n"
          ]
        }
      ]
    },
    {
      "cell_type": "code",
      "source": [
        "list1=[\"basavraj\"]\n",
        "print(list1.append(\"basavraj\"))"
      ],
      "metadata": {
        "id": "SwJIYbX4mxwH",
        "outputId": "327fce0d-7b54-4cb4-9f00-8d664ad31555",
        "colab": {
          "base_uri": "https://localhost:8080/"
        }
      },
      "execution_count": 70,
      "outputs": [
        {
          "output_type": "stream",
          "name": "stdout",
          "text": [
            "None\n"
          ]
        }
      ]
    },
    {
      "cell_type": "code",
      "source": [
        "list1.append(\"basavraj\")\n",
        "print(list1)"
      ],
      "metadata": {
        "id": "dSFy63d6nshv",
        "outputId": "9e9ba685-34ff-45f1-dc71-82d5feb375be",
        "colab": {
          "base_uri": "https://localhost:8080/"
        }
      },
      "execution_count": 73,
      "outputs": [
        {
          "output_type": "stream",
          "name": "stdout",
          "text": [
            "['basavraj', 'basavraj', 'basavraj', 'basavraj', 'basavraj']\n"
          ]
        }
      ]
    },
    {
      "cell_type": "code",
      "source": [],
      "metadata": {
        "id": "_aKmB-jR8oxE"
      },
      "execution_count": null,
      "outputs": []
    },
    {
      "cell_type": "code",
      "source": [
        "Details=[101]\n",
        "print(Details)\n",
        "Details.append(85.12)\n",
        "print(Details)\n",
        "Details.append(True)\n",
        "print(Details)\n",
        "print(len(Details))\n",
        "print(Details.pop())\n",
        "print (Details)\n",
        "Details.append(\"anup\")\n",
        "print(Details)\n",
        "Details.append(-99)\n",
        "print(Details)\n",
        "print(len(Details))\n",
        "print(Details[2])\n",
        "print(Details[3])\n",
        "print(Details[-1])\n",
        "Details.append(\"bkc college\")\n",
        "print(Details)\n",
        "Details[3]=99\n",
        "print(Details)\n",
        "print(Details[2:4])\n",
        "Details.insert(2,False)\n",
        "print(Details)\n",
        "Details.remove(False)\n",
        "print(Details)\n",
        "print(len(Details))\n",
        "print(Details[4])\n",
        "print(Details[::-1])\n",
        "print(Details.count(101))\n",
        "print(Details.clear())\n",
        "print(details)\n",
        "print(type(Details))\n"
      ],
      "metadata": {
        "id": "Z9QqCtFd8w-y",
        "outputId": "acc3de84-5aa7-4e04-d0cd-7073d3b941b7",
        "colab": {
          "base_uri": "https://localhost:8080/"
        }
      },
      "execution_count": 115,
      "outputs": [
        {
          "output_type": "stream",
          "name": "stdout",
          "text": [
            "[101]\n",
            "[101, 85.12]\n",
            "[101, 85.12, True]\n",
            "3\n",
            "True\n",
            "[101, 85.12]\n",
            "[101, 85.12, 'anup']\n",
            "[101, 85.12, 'anup', -99]\n",
            "4\n",
            "anup\n",
            "-99\n",
            "-99\n",
            "[101, 85.12, 'anup', -99, 'bkc college']\n",
            "[101, 85.12, 'anup', 99, 'bkc college']\n",
            "['anup', 99]\n",
            "[101, 85.12, False, 'anup', 99, 'bkc college']\n",
            "[101, 85.12, 'anup', 99, 'bkc college']\n",
            "5\n",
            "bkc college\n",
            "['bkc college', 99, 'anup', 85.12, 101]\n",
            "1\n",
            "None\n",
            "[101, 85.12, 'anup']\n",
            "<class 'list'>\n"
          ]
        }
      ]
    },
    {
      "cell_type": "code",
      "source": [
        "information=[201]\n",
        "print(information)\n",
        "information.append(82.33)\n",
        "print(information)\n",
        "information.append(True)\n",
        "print(information)\n",
        "print(len(information))\n",
        "print(information.pop())\n",
        "print(information)\n",
        "information.append(\"anand\")\n",
        "print(information)\n",
        "information.append(-66)\n",
        "print(information)\n",
        "print(len(information))\n",
        "print(information[2])\n",
        "print(information[3])\n",
        "print(information[-1])\n",
        "information.append(\"bkc college\")\n",
        "print(information)\n",
        "information[3]=66\n",
        "print(information)\n",
        "print(information[2:4])\n"
      ],
      "metadata": {
        "id": "WeaIOrmCKKcM",
        "outputId": "329c7ddd-87b2-402f-c3f8-b8458fc97c08",
        "colab": {
          "base_uri": "https://localhost:8080/"
        }
      },
      "execution_count": 137,
      "outputs": [
        {
          "output_type": "stream",
          "name": "stdout",
          "text": [
            "[201]\n",
            "[201, 82.33]\n",
            "[201, 82.33, True]\n",
            "3\n",
            "True\n",
            "[201, 82.33]\n",
            "[201, 82.33, 'anand']\n",
            "[201, 82.33, 'anand', -66]\n",
            "4\n",
            "anand\n",
            "-66\n",
            "-66\n",
            "[201, 82.33, 'anand', -66, 'bkc college']\n",
            "[201, 82.33, 'anand', 66, 'bkc college']\n",
            "['anand', 66]\n"
          ]
        }
      ]
    },
    {
      "cell_type": "code",
      "source": [
        "number=[4,2,7,1,8,5]\n",
        "print(number)\n",
        "number.sort()\n",
        "print(number)\n"
      ],
      "metadata": {
        "id": "DMV-KdEALYig",
        "outputId": "2ddca5a4-35a8-41dd-92af-ef4848e75a60",
        "colab": {
          "base_uri": "https://localhost:8080/"
        }
      },
      "execution_count": 134,
      "outputs": [
        {
          "output_type": "stream",
          "name": "stdout",
          "text": [
            "[4, 2, 7, 1, 8, 5]\n",
            "[1, 2, 4, 5, 7, 8]\n"
          ]
        }
      ]
    }
  ]
}