{
  "nbformat": 4,
  "nbformat_minor": 0,
  "metadata": {
    "colab": {
      "provenance": []
    },
    "kernelspec": {
      "name": "python3",
      "display_name": "Python 3"
    },
    "language_info": {
      "name": "python"
    }
  },
  "cells": [
    {
      "cell_type": "code",
      "execution_count": 4,
      "metadata": {
        "id": "51RyPs9hu8cX",
        "colab": {
          "base_uri": "https://localhost:8080/"
        },
        "outputId": "5e9e0dae-7328-4b14-e00d-a8f191d8749f"
      },
      "outputs": [
        {
          "output_type": "stream",
          "name": "stdout",
          "text": [
            "total values is: 15\n"
          ]
        }
      ],
      "source": [
        "#example sum of numbes using *args\n",
        "def add(*args):\n",
        "   total=0\n",
        "   for num in args :\n",
        "    total+=num\n",
        "   print(\"total values is:\",total)\n",
        "\n",
        "\n",
        "add(10,5)"
      ]
    },
    {
      "cell_type": "code",
      "source": [
        "#example sum of numbes using *args\n",
        "def add(*args):\n",
        "   total=0\n",
        "   for num in args :\n",
        "    total+=num\n",
        "   print(\"total values is:\",total)\n",
        "\n",
        "\n",
        "add(10,5)\n",
        "add(5,4,9)"
      ],
      "metadata": {
        "colab": {
          "base_uri": "https://localhost:8080/"
        },
        "id": "-NYXeUMl2arn",
        "outputId": "2c10a523-f11f-445d-8edc-94af8f4f2db9"
      },
      "execution_count": 5,
      "outputs": [
        {
          "output_type": "stream",
          "name": "stdout",
          "text": [
            "total values is: 15\n",
            "total values is: 18\n"
          ]
        }
      ]
    },
    {
      "cell_type": "code",
      "source": [
        "#example sum of numbes using *args\n",
        "def add(*args):\n",
        "   total=0\n",
        "   for num in args :\n",
        "    total+=num\n",
        "   print(\"total values is:\",total)\n",
        "\n",
        "\n",
        "add(10,5)\n",
        "add(5,4,9)\n",
        "add(10,46,14,20)"
      ],
      "metadata": {
        "colab": {
          "base_uri": "https://localhost:8080/"
        },
        "id": "h0F2BRo92oLo",
        "outputId": "4d047c99-5978-4a76-a300-97873b8ec5aa"
      },
      "execution_count": 6,
      "outputs": [
        {
          "output_type": "stream",
          "name": "stdout",
          "text": [
            "total values is: 15\n",
            "total values is: 18\n",
            "total values is: 90\n"
          ]
        }
      ]
    },
    {
      "cell_type": "code",
      "source": [
        "def print_details(**kwargs):\n",
        "  for key,value in kwargs.items():\n",
        "    print(f\"{key}={value}\")\n",
        "print_details(name='anup',age=25,city='ingali')"
      ],
      "metadata": {
        "colab": {
          "base_uri": "https://localhost:8080/"
        },
        "id": "C2nL3_lz3D1I",
        "outputId": "b8dcb757-8f3f-47c5-fd7b-45c16390b195"
      },
      "execution_count": 10,
      "outputs": [
        {
          "output_type": "stream",
          "name": "stdout",
          "text": [
            "name=anup\n",
            "age=25\n",
            "city=ingali\n"
          ]
        }
      ]
    },
    {
      "cell_type": "code",
      "source": [
        "def details(**kwargs):\n",
        "  for key,value in kwargs.items():\n",
        "    print(f'My detailsmis {key} and {value}')\n",
        "\n",
        "details(course=\"BCA\",section='c',college=\"BK colege\")\n",
        "details(place=\"belagum\")\n",
        "details(roll_num=39,T_Subject=8)\n",
        "details(laptop=\"HP\",O_S=\"windows\",year=2022,version=\"windows 11\")\n",
        "\n"
      ],
      "metadata": {
        "colab": {
          "base_uri": "https://localhost:8080/"
        },
        "id": "g7jBgfJR4kqO",
        "outputId": "7a9e9c2e-4d9a-4432-dc37-3e80de554a2b"
      },
      "execution_count": 13,
      "outputs": [
        {
          "output_type": "stream",
          "name": "stdout",
          "text": [
            "My detailsmis course and BCA\n",
            "My detailsmis section and c\n",
            "My detailsmis college and BK colege\n",
            "My detailsmis place and belagum\n",
            "My detailsmis roll_num and 39\n",
            "My detailsmis T_Subject and 8\n",
            "My detailsmis laptop and HP\n",
            "My detailsmis O_S and windows\n",
            "My detailsmis year and 2022\n",
            "My detailsmis version and windows 11\n"
          ]
        }
      ]
    },
    {
      "cell_type": "code",
      "source": [
        "i=1\n",
        "fact=1\n",
        "while i<6:\n",
        "    fact=fact*i\n",
        "    i=i+1\n",
        "print(fact)"
      ],
      "metadata": {
        "colab": {
          "base_uri": "https://localhost:8080/"
        },
        "id": "smkXTwQoAFOH",
        "outputId": "26232662-f099-47b0-9bcd-40a2c97dbd6a"
      },
      "execution_count": 16,
      "outputs": [
        {
          "output_type": "stream",
          "name": "stdout",
          "text": [
            "120\n"
          ]
        }
      ]
    },
    {
      "cell_type": "code",
      "source": [
        "def fact(num):\n",
        "    if num== 0 or num== 1:\n",
        "        return 1\n",
        "    else:\n",
        "       return num*fact(num-1)\n",
        "(fact(5))"
      ],
      "metadata": {
        "colab": {
          "base_uri": "https://localhost:8080/"
        },
        "id": "1YwKbBKVD9nu",
        "outputId": "c28a3505-e91a-4823-9831-01069425217f"
      },
      "execution_count": 20,
      "outputs": [
        {
          "output_type": "execute_result",
          "data": {
            "text/plain": [
              "120"
            ]
          },
          "metadata": {},
          "execution_count": 20
        }
      ]
    },
    {
      "cell_type": "code",
      "source": [
        "def Sum(num):\n",
        "    if num==0:\n",
        "       return num\n",
        "    else:\n",
        "      return num+Sum(num-1)\n",
        "Sum(10)\n"
      ],
      "metadata": {
        "colab": {
          "base_uri": "https://localhost:8080/"
        },
        "id": "JRzs3eSOGxdZ",
        "outputId": "107d14d4-0ce2-4d2e-dfb5-68dd7327b5ee"
      },
      "execution_count": 26,
      "outputs": [
        {
          "output_type": "execute_result",
          "data": {
            "text/plain": [
              "55"
            ]
          },
          "metadata": {},
          "execution_count": 26
        }
      ]
    },
    {
      "cell_type": "code",
      "source": [
        "def fibo(num):\n",
        "  if num<=1:\n",
        "    return num\n",
        "  else:\n",
        "    return fibo(num-1)+fibo(num-2)\n",
        "for i in range(11):\n",
        "    print(fibo(i),end=\" \")\n",
        "\n",
        "\n",
        ""
      ],
      "metadata": {
        "colab": {
          "base_uri": "https://localhost:8080/"
        },
        "id": "Gjlx4Q8DIcw8",
        "outputId": "e40f40e3-f55e-45ca-cbd6-df991d33e7bb"
      },
      "execution_count": 29,
      "outputs": [
        {
          "output_type": "stream",
          "name": "stdout",
          "text": [
            "0 1 1 2 3 5 8 13 21 34 55 "
          ]
        }
      ]
    },
    {
      "cell_type": "code",
      "source": [
        "Name= \"vasu\"\n",
        "\n",
        "print(Name[:4])"
      ],
      "metadata": {
        "colab": {
          "base_uri": "https://localhost:8080/"
        },
        "id": "_FybREYTPhpL",
        "outputId": "39daf0c6-52b7-43cd-8cb1-393485f88960"
      },
      "execution_count": 33,
      "outputs": [
        {
          "output_type": "stream",
          "name": "stdout",
          "text": [
            "vasu\n"
          ]
        }
      ]
    },
    {
      "cell_type": "code",
      "source": [
        "class Fruit:\n",
        "  colour=\"orange\"\n",
        "  price=250\n",
        "  teste=\"sweet\"\n",
        "  shape=\"circle\"\n",
        "  def juce(self):\n",
        "    print(\"good\")\n",
        "orange = Fruit()\n",
        "    print(\"orange colour is\",orange.colour)\n",
        "orange.juice()\n",
        "    print(orange.price)"
      ],
      "metadata": {
        "colab": {
          "base_uri": "https://localhost:8080/"
        },
        "id": "XtqmrkSiXP2p",
        "outputId": "3448ed29-88a6-453c-e1f8-524a77f8cd52"
      },
      "execution_count": 42,
      "outputs": [
        {
          "output_type": "stream",
          "name": "stdout",
          "text": [
            "orange colour is orange\n",
            "good\n",
            "250\n"
          ]
        }
      ]
    },
    {
      "cell_type": "code",
      "source": [
        "class fan :\n",
        "    colour=\"black\"\n",
        "    wings=3\n",
        "    c_name=\"bajaj\"\n",
        "    price=1500\n",
        "    warrenty=\"2 years\"\n",
        "    def start(self):\n",
        "        print(\"when click on button it'll start\")\n",
        "    def speed(self):\n",
        "        print(\"besed on condition it'll move fast\")\n",
        "    def stop(self):\n",
        "        print(\"when click on off button it'll stop\")\n",
        "\n",
        "obj=fan()\n",
        "print(obj.c_name+\" \"+obj.warrenty)\n",
        "obj.stop()\n",
        "obj.start()\n",
        ""
      ],
      "metadata": {
        "colab": {
          "base_uri": "https://localhost:8080/"
        },
        "id": "aQHh_49PgEwv",
        "outputId": "cf43d225-1d3a-4f6a-ff59-cec501869258"
      },
      "execution_count": 51,
      "outputs": [
        {
          "output_type": "stream",
          "name": "stdout",
          "text": [
            "bajaj 2 years\n",
            "when click on off button it'll stop\n",
            "when click on button it'll start\n"
          ]
        }
      ]
    },
    {
      "cell_type": "code",
      "source": [
        "class bank :\n",
        "    def __init__(self,balance):\n",
        "        self.balance = balance\n",
        "\n",
        "\n",
        "    def Deposit(self,amount):\n",
        "        self.balance += amount\n",
        "\n",
        "    def withdraw(self,amount):\n",
        "        if amount <= self.balance:\n",
        "            self.balance -= amount\n",
        "            print(\"transaction successfully\")\n",
        "        else:\n",
        "            print(\"insufficient balance\")\n",
        "\n",
        "    def re_balance(self):\n",
        "        return self.balance\n",
        "\n",
        "obj = bank(1000)\n",
        "print(obj.balance)\n",
        "obj.Deposit(500)\n",
        "print(obj.balance)\n",
        "obj.withdraw(700)\n",
        "print(obj.re_balance())\n",
        "obj.Deposit(1000)\n",
        "print(\"current total balance is\",obj.balance)\n",
        "obj.withdraw(2000)\n",
        "print(obj.re_balance())\n",
        "obj.withdraw(1500)\n",
        "print(\"current total balance is\",obj.balance)\n",
        "\n",
        "\n"
      ],
      "metadata": {
        "colab": {
          "base_uri": "https://localhost:8080/"
        },
        "id": "QiYxxy8axtgl",
        "outputId": "6e2e342b-2b3e-4bb1-acc4-ef6f629cab2b"
      },
      "execution_count": 52,
      "outputs": [
        {
          "output_type": "stream",
          "name": "stdout",
          "text": [
            "1000\n",
            "1500\n",
            "transaction successfully\n",
            "800\n",
            "current total balance is 1800\n",
            "insufficient balance\n",
            "1800\n",
            "transaction successfully\n",
            "current total balance is 300\n"
          ]
        }
      ]
    },
    {
      "cell_type": "code",
      "source": [
        "class Student:\n",
        "    def __init__(self, name, marks, place):\n",
        "        self.__name = name\n",
        "        self.__marks = marks\n",
        "        self.place = place\n",
        "\n",
        "    def set_method(self, name, marks):\n",
        "        self.__name = name\n",
        "        self.__marks = marks\n",
        "\n",
        "    def get_method(self):\n",
        "        return self.__name + \" \" + str(self.__marks)\n",
        "\n",
        "obj = Student(\"anand\", 72, \"Ingali\")\n",
        "obj.set_method(\"anup\", 69)\n",
        "print(obj.get_method())\n"
      ],
      "metadata": {
        "colab": {
          "base_uri": "https://localhost:8080/"
        },
        "id": "XZa_k4fMGe1v",
        "outputId": "fe158769-197c-43d5-ea65-991ffabd5e5d"
      },
      "execution_count": 56,
      "outputs": [
        {
          "output_type": "stream",
          "name": "stdout",
          "text": [
            "anup 69\n"
          ]
        }
      ]
    },
    {
      "cell_type": "code",
      "source": [
        "#1) single inheritance\n",
        "class parent :\n",
        "    def work(self):\n",
        "        print(\"my parents are doing forming\")\n",
        "\n",
        "class children(parent):\n",
        "    def study(self):\n",
        "        print(\"i'm studing BCA in BK college\" )\n",
        "\n",
        "ch = children()\n",
        "ch.work()\n",
        "ch.study()"
      ],
      "metadata": {
        "colab": {
          "base_uri": "https://localhost:8080/"
        },
        "id": "8WcgO6FmJLOj",
        "outputId": "0434ae20-6b9e-40af-d7dd-1750bd7a21d6"
      },
      "execution_count": 57,
      "outputs": [
        {
          "output_type": "stream",
          "name": "stdout",
          "text": [
            "my parents are doing forming\n",
            "i'm studing BCA in BK college\n"
          ]
        }
      ]
    },
    {
      "cell_type": "code",
      "source": [
        "class father :\n",
        "    def Hi(self):\n",
        "        print(\"my father is first hero\")\n",
        "\n",
        "class mother :\n",
        "    def hello(self):\n",
        "        print(\"my mother is house wife\")\n",
        "\n",
        "\n",
        "class child(father,mother):\n",
        "    def bye(self):\n",
        "        print(\"i'm working as a freelancer\")\n",
        "\n",
        "obj = child()\n",
        "obj.Hi()\n",
        "obj.hello()\n",
        "obj.bye()"
      ],
      "metadata": {
        "colab": {
          "base_uri": "https://localhost:8080/"
        },
        "id": "K3A4EXczK3Jy",
        "outputId": "b986349d-7897-4e47-cdac-80cd91e434f1"
      },
      "execution_count": 58,
      "outputs": [
        {
          "output_type": "stream",
          "name": "stdout",
          "text": [
            "my father is first hero\n",
            "my mother is house wife\n",
            "i'm working as a freelancer\n"
          ]
        }
      ]
    },
    {
      "cell_type": "code",
      "source": [
        "class grand_parents:\n",
        "    def former(self):\n",
        "        print(\"######\")\n",
        "\n",
        "class parents(grand_parents):\n",
        "    def house(self):\n",
        "        print(\"********\")\n",
        "\n",
        "class child(parents):\n",
        "    def jolly(self):\n",
        "        print(\"%%%%%%%%%\")\n",
        "\n",
        "# Create an object of class child\n",
        "obj = child()\n",
        "obj.house()   # From parents class\n",
        "obj.jolly()   # From child class\n",
        "obj.former()  # From grand_parents class\n"
      ],
      "metadata": {
        "colab": {
          "base_uri": "https://localhost:8080/"
        },
        "id": "tjwMrcAfOZYp",
        "outputId": "cf9b7ab7-ae9d-450c-fc97-416b4e9a2f92"
      },
      "execution_count": 59,
      "outputs": [
        {
          "output_type": "stream",
          "name": "stdout",
          "text": [
            "********\n",
            "%%%%%%%%%\n",
            "######\n"
          ]
        }
      ]
    },
    {
      "cell_type": "code",
      "source": [
        "class parents :\n",
        "    def business(self):\n",
        "        print(\"my parents are doing business\")\n",
        "\n",
        "\n",
        "class child1(parents) :\n",
        "    def study(self):\n",
        "        print(\"i'm studing bca\")\n",
        "\n",
        "\n",
        "class child2(parents) :\n",
        "    def study(self):\n",
        "        print(\"i'm studing puc\")\n",
        "\n",
        "\n",
        "ch = child1()\n",
        "ch.business()\n",
        "ch.study()\n",
        "\n",
        "obj = child2()\n",
        "obj.business()\n",
        "obj.study()\n",
        ""
      ],
      "metadata": {
        "colab": {
          "base_uri": "https://localhost:8080/"
        },
        "id": "6Zdt8St4TERU",
        "outputId": "d2649b4c-3d9e-44ac-cdd9-5eeea5dcca22"
      },
      "execution_count": 60,
      "outputs": [
        {
          "output_type": "stream",
          "name": "stdout",
          "text": [
            "my parents are doing business\n",
            "i'm studing bca\n",
            "my parents are doing business\n",
            "i'm studing puc\n"
          ]
        }
      ]
    },
    {
      "cell_type": "code",
      "source": [
        "class a :\n",
        "    def hi(self):\n",
        "        print(\"hiiiiiiii\")\n",
        "\n",
        "class b(a) :\n",
        "    def hello(self):\n",
        "        print(\"helooooooo\")\n",
        "\n",
        "class c(a) :\n",
        "    def bye(self):\n",
        "        print(\"byeeeeeeee\")\n",
        "\n",
        "class d(b,c):\n",
        "    def good(self):\n",
        "        print(\"gooooooood\")\n",
        "\n",
        "\n",
        "obj = d()\n",
        "obj.hi()\n",
        "obj.hello()\n",
        "obj.bye()\n",
        "obj.good()"
      ],
      "metadata": {
        "colab": {
          "base_uri": "https://localhost:8080/"
        },
        "id": "b-If09GvUNgx",
        "outputId": "f7c7d6e0-8031-4f9a-9b25-33bfa5d3817e"
      },
      "execution_count": 61,
      "outputs": [
        {
          "output_type": "stream",
          "name": "stdout",
          "text": [
            "hiiiiiiii\n",
            "helooooooo\n",
            "byeeeeeeee\n",
            "gooooooood\n"
          ]
        }
      ]
    }
  ]
}