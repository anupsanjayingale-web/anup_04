{
  "nbformat": 4,
  "nbformat_minor": 0,
  "metadata": {
    "colab": {
      "provenance": []
    },
    "kernelspec": {
      "name": "python3",
      "display_name": "Python 3"
    },
    "language_info": {
      "name": "python"
    }
  },
  "cells": [
    {
      "cell_type": "code",
      "execution_count": null,
      "metadata": {
        "colab": {
          "base_uri": "https://localhost:8080/"
        },
        "id": "-eOWoq6FlXy4",
        "outputId": "aa671b16-ade6-43bd-8b09-afcd56ca0bef"
      },
      "outputs": [
        {
          "output_type": "stream",
          "name": "stdout",
          "text": [
            "total vowels is  7\n"
          ]
        }
      ],
      "source": [
        "sentense = \"python programming languge\"\n",
        "count = 0\n",
        "for ch in sentense :\n",
        "    if ch in \"aeiou\" :\n",
        "        count +=1\n",
        "print(\"total vowels is \", count)"
      ]
    },
    {
      "cell_type": "code",
      "source": [
        "# area of circle\n",
        "base = 4\n",
        "height = 5\n",
        "triangel = 0.5 * base * height\n",
        "print(\"area of triangel is \", triangel)"
      ],
      "metadata": {
        "colab": {
          "base_uri": "https://localhost:8080/"
        },
        "id": "h3gpZgqNruC2",
        "outputId": "4314d15b-fa94-4585-b7da-0fb5c201547f"
      },
      "execution_count": null,
      "outputs": [
        {
          "output_type": "stream",
          "name": "stdout",
          "text": [
            "area of triangel is  10.0\n"
          ]
        }
      ]
    },
    {
      "cell_type": "code",
      "source": [
        "base = 5\n",
        "height = 2\n",
        "tringel = 5 * base*height\n",
        "print(\"area of tringel is\",tringel)"
      ],
      "metadata": {
        "colab": {
          "base_uri": "https://localhost:8080/"
        },
        "id": "vrD_1rY5s_A5",
        "outputId": "aa4ab233-e6c9-4319-ce4b-99551e9834f7"
      },
      "execution_count": null,
      "outputs": [
        {
          "output_type": "stream",
          "name": "stdout",
          "text": [
            "area of tringel is 50\n"
          ]
        }
      ]
    },
    {
      "cell_type": "markdown",
      "source": [
        "r = 5\n",
        "area = 3.14 * r **2\n",
        "print(\"area of circle is :\", area)"
      ],
      "metadata": {
        "id": "CQAi88CStcpz"
      }
    },
    {
      "cell_type": "code",
      "source": [
        "numbers = [10,25,7,99,56]\n",
        "lar = numbers[0]\n",
        "for i in numbers :\n",
        "    if i > lar :\n",
        "       lar = i\n",
        "print(lar,\"is a largest numbers in this list\")"
      ],
      "metadata": {
        "id": "ZUOzNVfZuPJj",
        "colab": {
          "base_uri": "https://localhost:8080/"
        },
        "outputId": "a5738adf-5f96-468b-bcf0-09149dc97a79"
      },
      "execution_count": 5,
      "outputs": [
        {
          "output_type": "stream",
          "name": "stdout",
          "text": [
            "99 is a largest numbers in this list\n"
          ]
        }
      ]
    },
    {
      "cell_type": "code",
      "source": [
        "sentense = \"bachelore of computer science frist semester section c\"\n",
        "count = 0\n",
        "for ch in sentense :\n",
        "    if ch in \"bcdfghjklmnpqrstvwxyz\" :\n",
        "       count +=1\n",
        "print(\"total consonents is \", count)"
      ],
      "metadata": {
        "colab": {
          "base_uri": "https://localhost:8080/"
        },
        "id": "PJ5bg0oyylB3",
        "outputId": "ef7272a8-3559-4bf8-dde6-8d126d0fa536"
      },
      "execution_count": 6,
      "outputs": [
        {
          "output_type": "stream",
          "name": "stdout",
          "text": [
            "total consonents is  29\n"
          ]
        }
      ]
    },
    {
      "cell_type": "code",
      "source": [
        "bikes =[\"rx 100\",\"gt 650\",\"ninja\",\"splender\",\"bajaja\",\"pulsar\",\"ns 200\",\"m 80\"]\n",
        "for bike in bikes:\n",
        "    if bike ==\"ns 200\":\n",
        "     break\n",
        "print(bikes)"
      ],
      "metadata": {
        "colab": {
          "base_uri": "https://localhost:8080/"
        },
        "id": "IrJCM-GKK2I0",
        "outputId": "f4024100-4d73-46ba-d755-857eaf8d195b"
      },
      "execution_count": 8,
      "outputs": [
        {
          "output_type": "stream",
          "name": "stdout",
          "text": [
            "['rx 100', 'gt 650', 'ninja', 'splender', 'bajaja', 'pulsar', 'ns 200', 'm 80']\n"
          ]
        }
      ]
    },
    {
      "cell_type": "code",
      "source": [
        "fruits = (\"Apple\",\"Orange\",\"Mango\",\"strawberry\",\"dragon\",\"Greeps\")\n",
        "for fruit in fruits :\n",
        "    if fruit == \"Greeps\" :\n",
        "        continue\n",
        "    print(fruit)"
      ],
      "metadata": {
        "colab": {
          "base_uri": "https://localhost:8080/"
        },
        "id": "ZPy4JeNJMAHV",
        "outputId": "5c696e5e-12be-4e59-d094-727e4b10aeec"
      },
      "execution_count": 9,
      "outputs": [
        {
          "output_type": "stream",
          "name": "stdout",
          "text": [
            "Apple\n",
            "Orange\n",
            "Mango\n",
            "strawberry\n",
            "dragon\n"
          ]
        }
      ]
    },
    {
      "cell_type": "code",
      "source": [
        "mobiles = [\"vivo\",\"redmi\",\"oppo\",\"vivo\",\"oppo\",\"iqee\",\"vivo\",\"oppo\",\"vivo\",\"1 plus\"]\n",
        "for mobile in mobiles:\n",
        "    if mobile ==\"vivo\":\n",
        "        continue\n",
        "\n",
        "print(mobiles)\n"
      ],
      "metadata": {
        "colab": {
          "base_uri": "https://localhost:8080/"
        },
        "id": "f7Bh13ETQVgW",
        "outputId": "07a12aff-30fe-4df4-fa7e-3142011f6226"
      },
      "execution_count": 10,
      "outputs": [
        {
          "output_type": "stream",
          "name": "stdout",
          "text": [
            "['vivo', 'redmi', 'oppo', 'vivo', 'oppo', 'iqee', 'vivo', 'oppo', 'vivo', '1 plus']\n"
          ]
        }
      ]
    },
    {
      "cell_type": "code",
      "source": [
        "movies =[\"kgf\",\"chhava\",\"bahubali\",\"saiyar\",\"rrr\",\"kalki\",\"toxic\"]\n",
        "for movie in movies:\n",
        "  if movie==\"rrr\" :\n",
        "     pass\n",
        "  print(movies)"
      ],
      "metadata": {
        "colab": {
          "base_uri": "https://localhost:8080/"
        },
        "id": "blSqUyT0QjZ_",
        "outputId": "e6093225-0386-43be-961f-37b1bf647240"
      },
      "execution_count": 18,
      "outputs": [
        {
          "output_type": "stream",
          "name": "stdout",
          "text": [
            "['kgf', 'chhava', 'bahubali', 'saiyar', 'rrr', 'kalki', 'toxic']\n",
            "['kgf', 'chhava', 'bahubali', 'saiyar', 'rrr', 'kalki', 'toxic']\n",
            "['kgf', 'chhava', 'bahubali', 'saiyar', 'rrr', 'kalki', 'toxic']\n",
            "['kgf', 'chhava', 'bahubali', 'saiyar', 'rrr', 'kalki', 'toxic']\n",
            "['kgf', 'chhava', 'bahubali', 'saiyar', 'rrr', 'kalki', 'toxic']\n",
            "['kgf', 'chhava', 'bahubali', 'saiyar', 'rrr', 'kalki', 'toxic']\n",
            "['kgf', 'chhava', 'bahubali', 'saiyar', 'rrr', 'kalki', 'toxic']\n"
          ]
        }
      ]
    },
    {
      "cell_type": "code",
      "source": [
        "things ={\"mobile\",\"laptop\",\"monitor\",\"tab\",\"book\",\"pen\",\"paper\"}\n",
        "for thing in things :\n",
        "    if thing == \"mobile\":\n",
        "        continue\n",
        "    print(things)"
      ],
      "metadata": {
        "colab": {
          "base_uri": "https://localhost:8080/"
        },
        "id": "-aJhoahdSvIf",
        "outputId": "ae673424-f4a2-44a4-e397-e1c06af4dab5"
      },
      "execution_count": 20,
      "outputs": [
        {
          "output_type": "stream",
          "name": "stdout",
          "text": [
            "{'laptop', 'pen', 'mobile', 'paper', 'tab', 'monitor', 'book'}\n",
            "{'laptop', 'pen', 'mobile', 'paper', 'tab', 'monitor', 'book'}\n",
            "{'laptop', 'pen', 'mobile', 'paper', 'tab', 'monitor', 'book'}\n",
            "{'laptop', 'pen', 'mobile', 'paper', 'tab', 'monitor', 'book'}\n",
            "{'laptop', 'pen', 'mobile', 'paper', 'tab', 'monitor', 'book'}\n",
            "{'laptop', 'pen', 'mobile', 'paper', 'tab', 'monitor', 'book'}\n"
          ]
        }
      ]
    },
    {
      "cell_type": "code",
      "source": [
        "for i in range(5):\n",
        "    for j in range(5):\n",
        "        print(\"1,2,3,4,5,6,\",end=\" \")\n",
        "    print()"
      ],
      "metadata": {
        "colab": {
          "base_uri": "https://localhost:8080/"
        },
        "id": "efg_cA08V-Cj",
        "outputId": "23b14499-0293-4265-d13b-4cad0c2838d6"
      },
      "execution_count": 24,
      "outputs": [
        {
          "output_type": "stream",
          "name": "stdout",
          "text": [
            "1,2,3,4,5,6, 1,2,3,4,5,6, 1,2,3,4,5,6, 1,2,3,4,5,6, 1,2,3,4,5,6, \n",
            "1,2,3,4,5,6, 1,2,3,4,5,6, 1,2,3,4,5,6, 1,2,3,4,5,6, 1,2,3,4,5,6, \n",
            "1,2,3,4,5,6, 1,2,3,4,5,6, 1,2,3,4,5,6, 1,2,3,4,5,6, 1,2,3,4,5,6, \n",
            "1,2,3,4,5,6, 1,2,3,4,5,6, 1,2,3,4,5,6, 1,2,3,4,5,6, 1,2,3,4,5,6, \n",
            "1,2,3,4,5,6, 1,2,3,4,5,6, 1,2,3,4,5,6, 1,2,3,4,5,6, 1,2,3,4,5,6, \n"
          ]
        }
      ]
    },
    {
      "cell_type": "code",
      "source": [
        "for i in range(5):\n",
        "    for j in range(5):\n",
        "        print(i,end=\" \")\n",
        "    print()"
      ],
      "metadata": {
        "colab": {
          "base_uri": "https://localhost:8080/"
        },
        "id": "Ons4c9KhXEQf",
        "outputId": "906fb229-f2f2-414b-cac3-0257c61bb002"
      },
      "execution_count": 25,
      "outputs": [
        {
          "output_type": "stream",
          "name": "stdout",
          "text": [
            "0 0 0 0 0 \n",
            "1 1 1 1 1 \n",
            "2 2 2 2 2 \n",
            "3 3 3 3 3 \n",
            "4 4 4 4 4 \n"
          ]
        }
      ]
    },
    {
      "cell_type": "code",
      "source": [
        "for i in range(5):\n",
        "    for j in range(5):\n",
        "        print(j,end=\" \")\n",
        "    print()"
      ],
      "metadata": {
        "colab": {
          "base_uri": "https://localhost:8080/"
        },
        "id": "564WVJiMXReu",
        "outputId": "09b5e622-98ac-484f-ecdc-1f1e40b878c5"
      },
      "execution_count": 26,
      "outputs": [
        {
          "output_type": "stream",
          "name": "stdout",
          "text": [
            "0 1 2 3 4 \n",
            "0 1 2 3 4 \n",
            "0 1 2 3 4 \n",
            "0 1 2 3 4 \n",
            "0 1 2 3 4 \n"
          ]
        }
      ]
    },
    {
      "cell_type": "markdown",
      "source": [
        "for i in range(5,1):\n",
        "    for j in range(i):\n",
        "        print(j,end=\" \")\n",
        "    print()    "
      ],
      "metadata": {
        "id": "utVdEbVZXY6-"
      }
    },
    {
      "cell_type": "code",
      "source": [
        "for i in range(11,1,-1):\n",
        "    for j in range(i):\n",
        "        print(j,end=\" \")\n",
        "    print()"
      ],
      "metadata": {
        "colab": {
          "base_uri": "https://localhost:8080/"
        },
        "id": "m1oFb8U1Y10t",
        "outputId": "d095e95e-4b2c-46bb-af0c-491a000a9f6d"
      },
      "execution_count": 29,
      "outputs": [
        {
          "output_type": "stream",
          "name": "stdout",
          "text": [
            "0 1 2 3 4 5 6 7 8 9 10 \n",
            "0 1 2 3 4 5 6 7 8 9 \n",
            "0 1 2 3 4 5 6 7 8 \n",
            "0 1 2 3 4 5 6 7 \n",
            "0 1 2 3 4 5 6 \n",
            "0 1 2 3 4 5 \n",
            "0 1 2 3 4 \n",
            "0 1 2 3 \n",
            "0 1 2 \n",
            "0 1 \n"
          ]
        }
      ]
    },
    {
      "cell_type": "code",
      "source": [
        "for i in range(5):\n",
        "    for j in range(0,i+1):\n",
        "        print(\" \",end=\" \")\n",
        "    for j in range(5):\n",
        "        print(\"*\",end=\" \")\n",
        "    print()"
      ],
      "metadata": {
        "colab": {
          "base_uri": "https://localhost:8080/"
        },
        "id": "pxf27WDfqwY4",
        "outputId": "4093c69c-7f41-476d-c68c-ba2e56ae4446"
      },
      "execution_count": 34,
      "outputs": [
        {
          "output_type": "stream",
          "name": "stdout",
          "text": [
            "  * * * * * \n",
            "    * * * * * \n",
            "      * * * * * \n",
            "        * * * * * \n",
            "          * * * * * \n"
          ]
        }
      ]
    },
    {
      "cell_type": "code",
      "source": [
        "for i in range(5):\n",
        "    for j in range(0,i+1):\n",
        "        print(\" \",end=\" \")\n",
        "    for j in range(5):\n",
        "        print(\"##\",end=\" \")\n",
        "    print()"
      ],
      "metadata": {
        "colab": {
          "base_uri": "https://localhost:8080/"
        },
        "id": "du9MAHdormDV",
        "outputId": "b7ea89b0-e49c-4959-f27f-186e0a4f3c3d"
      },
      "execution_count": 42,
      "outputs": [
        {
          "output_type": "stream",
          "name": "stdout",
          "text": [
            "  ## ## ## ## ## \n",
            "    ## ## ## ## ## \n",
            "      ## ## ## ## ## \n",
            "        ## ## ## ## ## \n",
            "          ## ## ## ## ## \n"
          ]
        }
      ]
    },
    {
      "cell_type": "code",
      "source": [
        "for i in range(5):\n",
        "    for j in range(i+1,5):\n",
        "        print(\" \",end=\" \")\n",
        "    for j in range(5):\n",
        "        print(\"*\",end=\" \")\n",
        "    print()"
      ],
      "metadata": {
        "colab": {
          "base_uri": "https://localhost:8080/"
        },
        "id": "PIWf1Xnus7n2",
        "outputId": "19cc90a0-174f-4bd8-feeb-8814d635c24a"
      },
      "execution_count": 43,
      "outputs": [
        {
          "output_type": "stream",
          "name": "stdout",
          "text": [
            "        * * * * * \n",
            "      * * * * * \n",
            "    * * * * * \n",
            "  * * * * * \n",
            "* * * * * \n"
          ]
        }
      ]
    },
    {
      "cell_type": "code",
      "source": [
        "row=5\n",
        "col=5\n",
        "for i in range(0,row):\n",
        "  for i in range(0,col):\n",
        "    print(\"*\",end=\" \")\n",
        "  print()"
      ],
      "metadata": {
        "colab": {
          "base_uri": "https://localhost:8080/"
        },
        "id": "bItHSUPRs-kp",
        "outputId": "a08c7741-fa66-4acd-abd0-518b59144559"
      },
      "execution_count": 44,
      "outputs": [
        {
          "output_type": "stream",
          "name": "stdout",
          "text": [
            "* * * * * \n",
            "* * * * * \n",
            "* * * * * \n",
            "* * * * * \n",
            "* * * * * \n"
          ]
        }
      ]
    },
    {
      "cell_type": "code",
      "source": [
        "num=7\n",
        "for i in range(0,num):\n",
        "    for j in range(0,num-i-1):\n",
        "        print(\" \",end=\" \")\n",
        "    for j in range(0,i*2+1):\n",
        "        print(chr(65+j),end=\" \")\n",
        "    print()"
      ],
      "metadata": {
        "colab": {
          "base_uri": "https://localhost:8080/"
        },
        "id": "m7Z0CINq0uNP",
        "outputId": "8fe363db-636b-4de0-e10a-c722f139b5a8"
      },
      "execution_count": 50,
      "outputs": [
        {
          "output_type": "stream",
          "name": "stdout",
          "text": [
            "            A \n",
            "          A B C \n",
            "        A B C D E \n",
            "      A B C D E F G \n",
            "    A B C D E F G H I \n",
            "  A B C D E F G H I J K \n",
            "A B C D E F G H I J K L M \n"
          ]
        }
      ]
    },
    {
      "cell_type": "code",
      "source": [
        "num=7\n",
        "for i in range(0,num):\n",
        "    for j in range(0,num-i-1):\n",
        "        print(\" \",end=\" \")\n",
        "    for j in range(0,i*2+1):\n",
        "        print(chr(97+j),end=\" \")\n",
        "    print()"
      ],
      "metadata": {
        "colab": {
          "base_uri": "https://localhost:8080/"
        },
        "id": "Uk-gFy3m1OX4",
        "outputId": "d01028b1-a4b4-4e20-b0ad-d4b65cf16775"
      },
      "execution_count": 49,
      "outputs": [
        {
          "output_type": "stream",
          "name": "stdout",
          "text": [
            "            a \n",
            "          a b c \n",
            "        a b c d e \n",
            "      a b c d e f g \n",
            "    a b c d e f g h i \n",
            "  a b c d e f g h i j k \n",
            "a b c d e f g h i j k l m \n"
          ]
        }
      ]
    },
    {
      "cell_type": "code",
      "source": [
        "num=7\n",
        "for i in range(0,num):\n",
        "    for j in range(0,num-i-1):\n",
        "        print(\" \",end=\" \")\n",
        "    for j in range(0,i*2+1):\n",
        "        print(chr(23+j),end=\" \")\n",
        "    print()"
      ],
      "metadata": {
        "colab": {
          "base_uri": "https://localhost:8080/"
        },
        "id": "kf48wuWP09bU",
        "outputId": "ffef3125-400f-40ba-9219-3358a0ef7790"
      },
      "execution_count": 51,
      "outputs": [
        {
          "output_type": "stream",
          "name": "stdout",
          "text": [
            "            \u0017 \n",
            "          \u0017 \u0018 \u0019 \n",
            "        \u0017 \u0018 \u0019 \u001a \u001b \n",
            "      \u0017 \u0018 \u0019 \u001a \u001b \u001c \u001d \n",
            "    \u0017 \u0018 \u0019 \u001a \u001b \u001c \u001d \u001e \u001f \n",
            "  \u0017 \u0018 \u0019 \u001a \u001b \u001c \u001d \u001e \u001f   ! \n",
            "\u0017 \u0018 \u0019 \u001a \u001b \u001c \u001d \u001e \u001f   ! \" # \n"
          ]
        }
      ]
    },
    {
      "cell_type": "code",
      "source": [
        "num=7\n",
        "for i in range(0,num):\n",
        "    for j in range(0,num-i-1):\n",
        "        print(\" \",end=\" \")\n",
        "    for j in range(0,i*2+1):\n",
        "        print(\"*\",end=\" \")\n",
        "    print()\n",
        "for i in range(0,num):\n",
        "  for j in range(0,i):\n",
        "    print(\" \",end=\" \")\n",
        "  for j in range(0,(num-i)*2-1):\n",
        "    print(\"*\",end=\" \")\n",
        "  print('')"
      ],
      "metadata": {
        "colab": {
          "base_uri": "https://localhost:8080/"
        },
        "id": "XDvzErRn2EVn",
        "outputId": "8f834860-854c-46aa-b520-174c6e9b80cf"
      },
      "execution_count": 55,
      "outputs": [
        {
          "output_type": "stream",
          "name": "stdout",
          "text": [
            "            * \n",
            "          * * * \n",
            "        * * * * * \n",
            "      * * * * * * * \n",
            "    * * * * * * * * * \n",
            "  * * * * * * * * * * * \n",
            "* * * * * * * * * * * * * \n",
            "* * * * * * * * * * * * * \n",
            "  * * * * * * * * * * * \n",
            "    * * * * * * * * * \n",
            "      * * * * * * * \n",
            "        * * * * * \n",
            "          * * * \n",
            "            * \n"
          ]
        }
      ]
    },
    {
      "cell_type": "code",
      "source": [
        "def Example(roll_num,name,section,department,college):\n",
        "  print(f\"my name is {name},i'm studying {department} in {college} college. My roll_num is {roll_num} and section {section}\")\n",
        "Example(101,\"ANAND\",'A',\"BCA\",\"KLE\")"
      ],
      "metadata": {
        "colab": {
          "base_uri": "https://localhost:8080/"
        },
        "id": "z-f2_BCAHT2Y",
        "outputId": "ea63cffc-a438-4d87-d3f3-3884ccdc23a0"
      },
      "execution_count": 61,
      "outputs": [
        {
          "output_type": "stream",
          "name": "stdout",
          "text": [
            "my name is ANAND,i'm studying BCA in KLE college. My roll_num is 101 and section A\n"
          ]
        }
      ]
    },
    {
      "cell_type": "code",
      "source": [
        "def fun(name,game,time):\n",
        "  print(f\"I'm {name};i'm playing {game} at {time} time\")\n",
        "fun(time = \"Evening\",name =\"anup\",game = \"cricket\")"
      ],
      "metadata": {
        "colab": {
          "base_uri": "https://localhost:8080/"
        },
        "id": "lGyZ1FaOIZ93",
        "outputId": "d0b730c2-01dc-4979-dc44-0334c4fc7eff"
      },
      "execution_count": 63,
      "outputs": [
        {
          "output_type": "stream",
          "name": "stdout",
          "text": [
            "I'm anup;i'm playing cricket at Evening time\n"
          ]
        }
      ]
    },
    {
      "cell_type": "code",
      "source": [
        "def laptop(name = \"Lenovo\"):\n",
        "  print(\"My laptop is:\",name)\n",
        "laptop(\"itel\")\n",
        "laptop(\"HP\")\n",
        "laptop()\n",
        "laptop(\"Asus\")"
      ],
      "metadata": {
        "colab": {
          "base_uri": "https://localhost:8080/"
        },
        "id": "WN3AhhNzKI00",
        "outputId": "edc60340-7316-4425-82df-7d5f37844393"
      },
      "execution_count": 66,
      "outputs": [
        {
          "output_type": "stream",
          "name": "stdout",
          "text": [
            "My laptop is: itel\n",
            "My laptop is: HP\n",
            "My laptop is: Lenovo\n",
            "My laptop is: Asus\n"
          ]
        }
      ]
    }
  ]
}