{
  "nbformat": 4,
  "nbformat_minor": 0,
  "metadata": {
    "colab": {
      "provenance": []
    },
    "kernelspec": {
      "name": "python3",
      "display_name": "Python 3"
    },
    "language_info": {
      "name": "python"
    }
  },
  "cells": [
    {
      "cell_type": "code",
      "execution_count": 1,
      "metadata": {
        "colab": {
          "base_uri": "https://localhost:8080/"
        },
        "id": "LECVPzqhnXRb",
        "outputId": "8873919f-294a-4154-93cc-1624fb60784f"
      },
      "outputs": [
        {
          "output_type": "stream",
          "name": "stdout",
          "text": [
            "(1, 'Sharath', 3.12, False)\n",
            "4\n",
            "<class 'tuple'>\n",
            "1\n",
            "(1, 'Sharath', 3.12)\n",
            "False\n",
            "False\n",
            "(2, 4, 7, 9, 3, 9, 3, 2, 2, 4, 5, 7)\n",
            "(2, 4, 5, 7, 2, 4, 5, 7, 2, 4, 5, 7, 2, 4, 5, 7)\n"
          ]
        }
      ],
      "source": [
        "example=(1,\"Sharath\",3.12,False)\n",
        "print(example)\n",
        "print(len(example))\n",
        "print(type(example))\n",
        "print(example.count(1))\n",
        "print(example[0:3])\n",
        "print(example[3])\n",
        "print(example[-1])\n",
        "number=(2,4,7,9,3,9,3,2)\n",
        "add=(2,4,5,7)\n",
        "print(number+add)\n",
        "print((add)*4)\n"
      ]
    },
    {
      "cell_type": "code",
      "source": [
        "example={1,1,2,3,3,4,5,}\n",
        "print(example)\n",
        "print(type(example))\n",
        "print(len(example))\n",
        "example.add(10)\n",
        "print(example)\n",
        "example.add(\"bkc\")\n",
        "print(example)\n",
        "example={1,1,2,3,4,5,6,7,}\n",
        "print(example)\n",
        "print(len(example))\n",
        "example.add(\"bkc\")\n",
        "print(example)\n",
        "example.add(\"5.67\")\n",
        "print(example)\n",
        "example.add(\"True\")\n",
        "print(example)\n",
        "print(example.remove(4))\n",
        "print(example.pop())\n",
        "print(example)\n"
      ],
      "metadata": {
        "colab": {
          "base_uri": "https://localhost:8080/"
        },
        "id": "c1JyNvC-njOL",
        "outputId": "ef4047dc-71c6-4fde-e398-e5bd2abe43f8"
      },
      "execution_count": 2,
      "outputs": [
        {
          "output_type": "stream",
          "name": "stdout",
          "text": [
            "{1, 2, 3, 4, 5}\n",
            "<class 'set'>\n",
            "5\n",
            "{1, 2, 3, 4, 5, 10}\n",
            "{'bkc', 1, 2, 3, 4, 5, 10}\n",
            "{1, 2, 3, 4, 5, 6, 7}\n",
            "7\n",
            "{'bkc', 1, 2, 3, 4, 5, 6, 7}\n",
            "{'bkc', 1, 2, 3, 4, 5, 6, 7, '5.67'}\n",
            "{'bkc', 1, 2, 3, 4, 5, 6, 7, '5.67', 'True'}\n",
            "None\n",
            "bkc\n",
            "{1, 2, 3, 5, 6, 7, '5.67', 'True'}\n"
          ]
        }
      ]
    },
    {
      "cell_type": "code",
      "source": [
        "frist={1,2,3,4,4,2}\n",
        "second={3,5,4,6}\n",
        "print(frist|second)\n",
        "print(frist.union(second))\n",
        "print(frist&second)\n",
        "print(frist.intersection(second))\n",
        "print(frist.difference(second))\n",
        "print(frist-second)\n",
        "print(second-frist)\n",
        "print(second.difference(frist))"
      ],
      "metadata": {
        "colab": {
          "base_uri": "https://localhost:8080/"
        },
        "id": "ff74i4-Xnx0K",
        "outputId": "85c2d708-dfcd-4d51-992f-4a6671b823b5"
      },
      "execution_count": 3,
      "outputs": [
        {
          "output_type": "stream",
          "name": "stdout",
          "text": [
            "{1, 2, 3, 4, 5, 6}\n",
            "{1, 2, 3, 4, 5, 6}\n",
            "{3, 4}\n",
            "{3, 4}\n",
            "{1, 2}\n",
            "{1, 2}\n",
            "{5, 6}\n",
            "{5, 6}\n"
          ]
        }
      ]
    },
    {
      "cell_type": "code",
      "source": [
        "dict={\"roll_number\" :201,\n",
        "                  \"name\"  :\"anand\",\n",
        "                \"address\" :\"raichur\",\n",
        "                   \"cgpa\" :2.12,\n",
        "                 \"course\" :\"mca\",\n",
        "                    \"year\" :2022}\n",
        "\n",
        "\n",
        "print(dict)\n",
        "print(len(dict))\n",
        "dict[\"gender\"]=\"male\"\n",
        "print(dict)\n",
        "dict[\"mobile number\"]=9663957928,\n",
        "print(dict)\n",
        "dict[\"collge name\"]=\"bk college\"\n",
        "print(dict)\n",
        "print(dict.get(\"\"))\n",
        "dict[\"age\"]=25\n",
        "print(dict[\"age\"])\n",
        "dict.pop(\"year\")\n",
        "print(dict)\n",
        "dict.popitem()\n",
        "print(dict)\n",
        "print(dict.keys())\n",
        "print(dict.values())\n",
        "print(dict.items())\n",
        "print(dict.clear())\n",
        "\n",
        "\n"
      ],
      "metadata": {
        "colab": {
          "base_uri": "https://localhost:8080/"
        },
        "id": "DC-1lkRLn7QL",
        "outputId": "6dacd11f-2f50-47e1-dde1-875ca86aaf9a"
      },
      "execution_count": 4,
      "outputs": [
        {
          "output_type": "stream",
          "name": "stdout",
          "text": [
            "{'roll_number': 201, 'name': 'anand', 'address': 'raichur', 'cgpa': 2.12, 'course': 'mca', 'year': 2022}\n",
            "6\n",
            "{'roll_number': 201, 'name': 'anand', 'address': 'raichur', 'cgpa': 2.12, 'course': 'mca', 'year': 2022, 'gender': 'male'}\n",
            "{'roll_number': 201, 'name': 'anand', 'address': 'raichur', 'cgpa': 2.12, 'course': 'mca', 'year': 2022, 'gender': 'male', 'mobile number': (9663957928,)}\n",
            "{'roll_number': 201, 'name': 'anand', 'address': 'raichur', 'cgpa': 2.12, 'course': 'mca', 'year': 2022, 'gender': 'male', 'mobile number': (9663957928,), 'collge name': 'bk college'}\n",
            "None\n",
            "25\n",
            "{'roll_number': 201, 'name': 'anand', 'address': 'raichur', 'cgpa': 2.12, 'course': 'mca', 'gender': 'male', 'mobile number': (9663957928,), 'collge name': 'bk college', 'age': 25}\n",
            "{'roll_number': 201, 'name': 'anand', 'address': 'raichur', 'cgpa': 2.12, 'course': 'mca', 'gender': 'male', 'mobile number': (9663957928,), 'collge name': 'bk college'}\n",
            "dict_keys(['roll_number', 'name', 'address', 'cgpa', 'course', 'gender', 'mobile number', 'collge name'])\n",
            "dict_values([201, 'anand', 'raichur', 2.12, 'mca', 'male', (9663957928,), 'bk college'])\n",
            "dict_items([('roll_number', 201), ('name', 'anand'), ('address', 'raichur'), ('cgpa', 2.12), ('course', 'mca'), ('gender', 'male'), ('mobile number', (9663957928,)), ('collge name', 'bk college')])\n",
            "None\n"
          ]
        }
      ]
    },
    {
      "cell_type": "code",
      "source": [
        "\n",
        "Employe={\"Employe_id\":1001,\n",
        "\"Employ_name\":\"anand\",\n",
        "         \"contact_number\":9731834621,\n",
        "         \"salary\":300000,\n",
        "         \"Email_id\":\"anand@gamil.com\",\n",
        "         \"company\":\"google\",\n",
        "         \"Employe_habbit\":\"gaming\"}\n",
        "print(Employe)\n",
        "print(len(Employe))\n",
        "Employe[\"gender\"]=\"Male\"\n",
        "print(Employe.get(\"name\"))\n",
        "print(Employe.pop(\"company\"))\n",
        "Employe[\"Age\"]=33\n",
        "print(Employe[\"Age\"])\n",
        "Employe.popitem()\n",
        "print(Employe)\n",
        "print(Employe.keys())\n",
        "print(Employe.values())\n",
        "print(Employe.items())\n",
        "\n",
        "print(Employe.clear())\n",
        "print(type(Employe))\n",
        "\n"
      ],
      "metadata": {
        "colab": {
          "base_uri": "https://localhost:8080/"
        },
        "id": "5Sla7qxdoQNr",
        "outputId": "85b825a2-3384-492d-efda-27f5ff067c91"
      },
      "execution_count": 5,
      "outputs": [
        {
          "output_type": "stream",
          "name": "stdout",
          "text": [
            "{'Employe_id': 1001, 'Employ_name': 'anand', 'contact_number': 9731834621, 'salary': 300000, 'Email_id': 'anand@gamil.com', 'company': 'google', 'Employe_habbit': 'gaming'}\n",
            "7\n",
            "None\n",
            "google\n",
            "33\n",
            "{'Employe_id': 1001, 'Employ_name': 'anand', 'contact_number': 9731834621, 'salary': 300000, 'Email_id': 'anand@gamil.com', 'Employe_habbit': 'gaming', 'gender': 'Male'}\n",
            "dict_keys(['Employe_id', 'Employ_name', 'contact_number', 'salary', 'Email_id', 'Employe_habbit', 'gender'])\n",
            "dict_values([1001, 'anand', 9731834621, 300000, 'anand@gamil.com', 'gaming', 'Male'])\n",
            "dict_items([('Employe_id', 1001), ('Employ_name', 'anand'), ('contact_number', 9731834621), ('salary', 300000), ('Email_id', 'anand@gamil.com'), ('Employe_habbit', 'gaming'), ('gender', 'Male')])\n",
            "None\n",
            "<class 'dict'>\n"
          ]
        }
      ]
    },
    {
      "cell_type": "code",
      "source": [
        "a=10\n",
        "b=3\n",
        "print(type(a/b))\n",
        "a,b,c=2.5,3.5,a+b\n",
        "print(c)\n",
        "print(type(a))\n",
        "print(type(b))\n",
        "print(type(c))\n"
      ],
      "metadata": {
        "colab": {
          "base_uri": "https://localhost:8080/"
        },
        "id": "elSQIdnboV1L",
        "outputId": "6a78645f-85a7-4d21-8376-b76c713044ce"
      },
      "execution_count": 15,
      "outputs": [
        {
          "output_type": "execute_result",
          "data": {
            "text/plain": [
              "True"
            ]
          },
          "metadata": {},
          "execution_count": 15
        }
      ]
    }
  ]
}