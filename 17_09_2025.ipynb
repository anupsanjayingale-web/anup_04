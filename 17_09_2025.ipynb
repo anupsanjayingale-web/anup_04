{
  "nbformat": 4,
  "nbformat_minor": 0,
  "metadata": {
    "colab": {
      "provenance": []
    },
    "kernelspec": {
      "name": "python3",
      "display_name": "Python 3"
    },
    "language_info": {
      "name": "python"
    }
  },
  "cells": [
    {
      "cell_type": "code",
      "execution_count": null,
      "metadata": {
        "colab": {
          "base_uri": "https://localhost:8080/"
        },
        "id": "b-iPw3HuWtWF",
        "outputId": "8c5de753-96d0-4719-e685-f7ba726efe27"
      },
      "outputs": [
        {
          "output_type": "stream",
          "name": "stdout",
          "text": [
            "b is big\n"
          ]
        }
      ],
      "source": [
        "a,b,c=25,35,12\n",
        "if a>b and a>c:\n",
        "  print(\"a is big\")\n",
        "if b>a and b>c:\n",
        "    print(\"b is big\")\n",
        "else:\n",
        "    print(\"c is big\")"
      ]
    },
    {
      "cell_type": "code",
      "source": [
        "a,b,c=100,200,-500\n",
        "if a>b and a>c:\n",
        "  print(\"a is big\")\n",
        "if b>a and b>c:\n",
        "    print(\"b is big\")\n",
        "else:\n",
        "    print(\"c is big\")"
      ],
      "metadata": {
        "colab": {
          "base_uri": "https://localhost:8080/"
        },
        "id": "j1FSOBpQj1SV",
        "outputId": "5801909f-e575-439b-96ca-0357a73221cf"
      },
      "execution_count": null,
      "outputs": [
        {
          "output_type": "stream",
          "name": "stdout",
          "text": [
            "b is big\n"
          ]
        }
      ]
    },
    {
      "cell_type": "code",
      "source": [
        "a,b,c=25,35,12\n",
        "if a>b and a>c:\n",
        "  print(\"a is big\",a)\n",
        "if b>a and b>c:\n",
        "    print(\"b is big\",b)\n",
        "else:\n",
        "    print(\"c is big\",c)"
      ],
      "metadata": {
        "colab": {
          "base_uri": "https://localhost:8080/"
        },
        "id": "pkrTFLAnkKAd",
        "outputId": "c53ecf09-d6a2-43e9-b99a-9cbf7500447a"
      },
      "execution_count": null,
      "outputs": [
        {
          "output_type": "stream",
          "name": "stdout",
          "text": [
            "b is big 35\n"
          ]
        }
      ]
    },
    {
      "cell_type": "code",
      "source": [
        "a,b,c=25,35,12\n",
        "if a<b and a<c:\n",
        "  print(\"a is small\",a)\n",
        "if b<a and b<c:\n",
        "    print(\"b is small\",b)\n",
        "else:\n",
        "    print(\"c is small\",c)"
      ],
      "metadata": {
        "colab": {
          "base_uri": "https://localhost:8080/"
        },
        "id": "2Ifmupllkp_a",
        "outputId": "cef3b692-4fee-434d-af18-13eba1bebf20"
      },
      "execution_count": null,
      "outputs": [
        {
          "output_type": "stream",
          "name": "stdout",
          "text": [
            "c is small 12\n"
          ]
        }
      ]
    },
    {
      "cell_type": "code",
      "source": [
        "num=int(input(\"Enter number value:\"))\n",
        "if num>0:\n",
        " if num== 0:\n",
        "    print(\"Zero value\")\n",
        "      else:\n",
        "    print(\"Positive number\")\n",
        "      else:\n",
        "    print(\"Negetive number\")"
      ],
      "metadata": {
        "colab": {
          "base_uri": "https://localhost:8080/"
        },
        "id": "l4tFn4VdleUH",
        "outputId": "a0ca06e5-485e-4aef-adba-e1ae0be2c399"
      },
      "execution_count": null,
      "outputs": [
        {
          "output_type": "stream",
          "name": "stdout",
          "text": [
            "Enter number value:-55\n",
            "Negetive number\n"
          ]
        }
      ]
    },
    {
      "cell_type": "code",
      "source": [
        "#write a program arithmetic operatop using switch statement\n",
        "x,y=10,20\n",
        "option=input(\"enter your choice option:\")\n",
        "match option :\n",
        "  case'+':\n",
        "    print(\"sum of values\",x+y)\n",
        "  case'-':\n",
        "    print(\"subtraction of values\",x-y)\n",
        "  case'*':\n",
        "    print(\"multiplication of values\",x*y)\n",
        "  case'/':\n",
        "    print(\"division of values\",x/y)\n",
        "  case'%':\n",
        "    print(\"mod of values\",x%y)\n",
        "  case'_':\n",
        "    print(\"invalid operator\")\n"
      ],
      "metadata": {
        "colab": {
          "base_uri": "https://localhost:8080/"
        },
        "id": "CVhaKgFUnuIN",
        "outputId": "eb93d25a-6777-42b2-e8a1-183369a50693"
      },
      "execution_count": null,
      "outputs": [
        {
          "output_type": "stream",
          "name": "stdout",
          "text": [
            "enter your choice option:+\n",
            "sum of values 30\n"
          ]
        }
      ]
    },
    {
      "cell_type": "code",
      "source": [
        "#write a program arithmetic operatop using switch statement\n",
        "x,y=10,20\n",
        "option=input(\"enter your choice option:\")\n",
        "match option :\n",
        "  case'+':\n",
        "    print(\"sum of values\",x+y)\n",
        "  case'-':\n",
        "    print(\"subtraction of values\",x-y)\n",
        "  case'*':\n",
        "    print(\"multiplication of values\",x*y)\n",
        "  case'/':\n",
        "    print(\"division of values\",x/y)\n",
        "  case'%':\n",
        "    print(\"mod of values\",x%y)\n",
        "  case'_':\n",
        "    print(\"invalid operator\")\n"
      ],
      "metadata": {
        "colab": {
          "base_uri": "https://localhost:8080/"
        },
        "id": "TO41HPlStJMs",
        "outputId": "3a9debc7-aa81-42ce-c94f-fd1119a6b425"
      },
      "execution_count": null,
      "outputs": [
        {
          "output_type": "stream",
          "name": "stdout",
          "text": [
            "enter your choice option:-\n",
            "subtraction of values -10\n"
          ]
        }
      ]
    },
    {
      "cell_type": "code",
      "source": [
        "#write a program arithmetic operatop using switch statement\n",
        "x,y=10,20\n",
        "option=input(\"enter your choice option:\")\n",
        "match option :\n",
        "  case'+':\n",
        "    print(\"sum of values\",x+y)\n",
        "  case'-':\n",
        "    print(\"subtraction of values\",x-y)\n",
        "  case'*':\n",
        "    print(\"multiplication of values\",x*y)\n",
        "  case'/':\n",
        "    print(\"division of values\",x/y)\n",
        "  case'%':\n",
        "    print(\"mod of values\",x%y)\n",
        "  case'_':\n",
        "    print(\"invalid operator\")\n"
      ],
      "metadata": {
        "colab": {
          "base_uri": "https://localhost:8080/"
        },
        "id": "VfKtKS_otNqD",
        "outputId": "099bb583-4219-4299-a31a-b260be95c88f"
      },
      "execution_count": null,
      "outputs": [
        {
          "output_type": "stream",
          "name": "stdout",
          "text": [
            "enter your choice option:%\n",
            "mod of values 10\n"
          ]
        }
      ]
    },
    {
      "cell_type": "code",
      "source": [
        "#write a program arithmetic operatop using switch statement\n",
        "x,y=10,20\n",
        "option=input(\"enter your choice option:\")\n",
        "match option :\n",
        "  case'+':\n",
        "    print(\"sum of values\",x+y)\n",
        "  case'-':\n",
        "    print(\"subtraction of values\",x-y)\n",
        "  case'*':\n",
        "    print(\"multiplication of values\",x*y)\n",
        "  case'/':\n",
        "    print(\"division of values\",x/y)\n",
        "  case'%':\n",
        "    print(\"mod of values\",x%y)\n",
        "  case'_':\n",
        "    print(\"invalid operator\")\n"
      ],
      "metadata": {
        "colab": {
          "base_uri": "https://localhost:8080/"
        },
        "id": "TXKuVkdWtTVy",
        "outputId": "e2322876-1b55-4061-8577-e9a00c869d74"
      },
      "execution_count": null,
      "outputs": [
        {
          "output_type": "stream",
          "name": "stdout",
          "text": [
            "enter your choice option:/\n",
            "division of values 0.5\n"
          ]
        }
      ]
    },
    {
      "cell_type": "code",
      "source": [
        "#write a program arithmetic operatop using switch statement\n",
        "x,y=10,20\n",
        "option=input(\"enter your choice option:\")\n",
        "match option :\n",
        "  case'+':\n",
        "    print(\"sum of values\",x+y)\n",
        "  case'-':\n",
        "    print(\"subtraction of values\",x-y)\n",
        "  case'*':\n",
        "    print(\"multiplication of values\",x*y)\n",
        "  case'/':\n",
        "    print(\"division of values\",x/y)\n",
        "  case'!=':\n",
        "    print(\"x not equal to y\",x!=y)\n",
        "  case'_':\n",
        "    print(\"invalid operator\")\n"
      ],
      "metadata": {
        "colab": {
          "base_uri": "https://localhost:8080/"
        },
        "id": "e4AycCZDuLO5",
        "outputId": "29f6e4cc-c245-4655-c0e6-43444229a43d"
      },
      "execution_count": null,
      "outputs": [
        {
          "output_type": "stream",
          "name": "stdout",
          "text": [
            "enter your choice option:!=\n",
            "x not equal to y True\n"
          ]
        }
      ]
    },
    {
      "cell_type": "code",
      "source": [
        "month=int(input(\"Enter a month number\"))\n",
        "match month:\n",
        "    case 1 : print(\"jan\")\n",
        "    case 2 : print(\"feb\")\n",
        "    case 3 : print(\"mar\")\n",
        "    case 4 : print(\"apr\")\n",
        "    case 5 : print(\"may\")\n",
        "    case 6 : print(\"jun\")\n",
        "    case 7 : print(\"july\")\n",
        "    case 8 : print(\"agu\")\n",
        "    case 9 : print(\"sep\")\n",
        "    case 10: print(\"oct\")\n",
        "    case 11: print(\"nov\")\n",
        "    case 12: print(\"dec\")"
      ],
      "metadata": {
        "colab": {
          "base_uri": "https://localhost:8080/"
        },
        "id": "ZXiojQsA1F8P",
        "outputId": "1c7e6bd3-3256-497c-9ea3-70adc0bee172"
      },
      "execution_count": null,
      "outputs": [
        {
          "output_type": "stream",
          "name": "stdout",
          "text": [
            "Enter a month number8\n",
            "agu\n"
          ]
        }
      ]
    },
    {
      "cell_type": "code",
      "source": [
        "i=1\n",
        "while i<=60:\n",
        "    print(i)\n",
        "    i+=1"
      ],
      "metadata": {
        "colab": {
          "base_uri": "https://localhost:8080/"
        },
        "id": "c51HT8WC1OLO",
        "outputId": "81239aa8-92fe-4403-b7e6-8ac5b61c011b"
      },
      "execution_count": null,
      "outputs": [
        {
          "output_type": "stream",
          "name": "stdout",
          "text": [
            "1\n",
            "2\n",
            "3\n",
            "4\n",
            "5\n",
            "6\n",
            "7\n",
            "8\n",
            "9\n",
            "10\n",
            "11\n",
            "12\n",
            "13\n",
            "14\n",
            "15\n",
            "16\n",
            "17\n",
            "18\n",
            "19\n",
            "20\n",
            "21\n",
            "22\n",
            "23\n",
            "24\n",
            "25\n",
            "26\n",
            "27\n",
            "28\n",
            "29\n",
            "30\n",
            "31\n",
            "32\n",
            "33\n",
            "34\n",
            "35\n",
            "36\n",
            "37\n",
            "38\n",
            "39\n",
            "40\n",
            "41\n",
            "42\n",
            "43\n",
            "44\n",
            "45\n",
            "46\n",
            "47\n",
            "48\n",
            "49\n",
            "50\n",
            "51\n",
            "52\n",
            "53\n",
            "54\n",
            "55\n",
            "56\n",
            "57\n",
            "58\n",
            "59\n",
            "60\n"
          ]
        }
      ]
    },
    {
      "cell_type": "code",
      "source": [
        "num = 5\n",
        "i =1\n",
        "while i <=10 :\n",
        "    print(\"5 * \",i,\"=\",num*i)\n",
        "    i = i + 1\n"
      ],
      "metadata": {
        "colab": {
          "base_uri": "https://localhost:8080/"
        },
        "id": "OSuSVttF8Z2d",
        "outputId": "f23cc365-3560-4f13-fd22-54fc63c12354"
      },
      "execution_count": null,
      "outputs": [
        {
          "output_type": "stream",
          "name": "stdout",
          "text": [
            "5 *  1 = 5\n",
            "5 *  2 = 10\n",
            "5 *  3 = 15\n",
            "5 *  4 = 20\n",
            "5 *  5 = 25\n",
            "5 *  6 = 30\n",
            "5 *  7 = 35\n",
            "5 *  8 = 40\n",
            "5 *  9 = 45\n",
            "5 *  10 = 50\n"
          ]
        }
      ]
    },
    {
      "cell_type": "code",
      "source": [
        "num =153\n",
        "rem =0\n",
        "Sum=0\n",
        "temp=num\n",
        "while num > 0:\n",
        "    rem=num % 10\n",
        "    Sum=Sum + rem * rem* rem\n",
        "    num=num//10\n",
        "if temp==Sum :\n",
        "   print(\"Armstrong number\")\n",
        "else:\n",
        "    print(\"Not Armstrong number\")"
      ],
      "metadata": {
        "colab": {
          "base_uri": "https://localhost:8080/"
        },
        "id": "2zhwOnDWERCv",
        "outputId": "350fd532-9b72-443a-b0f5-ad68512b63a1"
      },
      "execution_count": null,
      "outputs": [
        {
          "output_type": "stream",
          "name": "stdout",
          "text": [
            "Armstrong number\n"
          ]
        }
      ]
    },
    {
      "cell_type": "code",
      "source": [
        "num =12345\n",
        "rem=0\n",
        "rev=0\n",
        "temp=num\n",
        "\n",
        "while num > 0:\n",
        "    rem=num%10\n",
        "    rev=rev*10+rem\n",
        "    num=num // 10\n",
        "print(\"Reverse number is:\",rev)\n"
      ],
      "metadata": {
        "colab": {
          "base_uri": "https://localhost:8080/"
        },
        "id": "7tdfVF-HI9qV",
        "outputId": "11e1d836-94f8-4ece-fbed-1136b5181350"
      },
      "execution_count": null,
      "outputs": [
        {
          "output_type": "stream",
          "name": "stdout",
          "text": [
            "Reverse number is: 54321\n"
          ]
        }
      ]
    },
    {
      "cell_type": "code",
      "source": [
        "#print even number between 1 to 100\n",
        "i = 2\n",
        "while i <= 100 :\n",
        "    print(i,end =\" \")\n",
        "    i+=2"
      ],
      "metadata": {
        "colab": {
          "base_uri": "https://localhost:8080/"
        },
        "id": "P5jF9uAtJ_cl",
        "outputId": "e99c1409-84d9-4e67-db0e-ad1989b4cafa"
      },
      "execution_count": null,
      "outputs": [
        {
          "output_type": "stream",
          "name": "stdout",
          "text": [
            "2 4 6 8 10 12 14 16 18 20 22 24 26 28 30 32 34 36 38 40 42 44 46 48 50 52 54 56 58 60 62 64 66 68 70 72 74 76 78 80 82 84 86 88 90 92 94 96 98 100 "
          ]
        }
      ]
    },
    {
      "cell_type": "code",
      "source": [
        "#print even number between 1 to 100\n",
        "i = 1\n",
        "while i <= 100 :\n",
        "    print(i,end =\" \")\n",
        "    i+=2"
      ],
      "metadata": {
        "colab": {
          "base_uri": "https://localhost:8080/"
        },
        "id": "SobNPb_XKGeF",
        "outputId": "cff9d3b6-c4d4-4145-a313-ef9015eb0914"
      },
      "execution_count": null,
      "outputs": [
        {
          "output_type": "stream",
          "name": "stdout",
          "text": [
            "1 3 5 7 9 11 13 15 17 19 21 23 25 27 29 31 33 35 37 39 41 43 45 47 49 51 53 55 57 59 61 63 65 67 69 71 73 75 77 79 81 83 85 87 89 91 93 95 97 99 "
          ]
        }
      ]
    },
    {
      "cell_type": "code",
      "source": [
        "num,a,b=10,0,1\n",
        "i = 0\n",
        "while i <=num:\n",
        "    print(a, end=\" \")\n",
        "    a,b = b,a+b\n",
        "    i+=1\n"
      ],
      "metadata": {
        "colab": {
          "base_uri": "https://localhost:8080/"
        },
        "id": "3iDAV4fQLFg6",
        "outputId": "d9beac2f-ed3b-45bd-f3fb-420618369059"
      },
      "execution_count": null,
      "outputs": [
        {
          "output_type": "stream",
          "name": "stdout",
          "text": [
            "0 1 1 2 3 5 8 13 21 34 55 "
          ]
        }
      ]
    },
    {
      "cell_type": "code",
      "source": [
        "num = int(input(\"Enter a number value :\"))\n",
        "count = 0\n",
        "i = 1\n",
        "while i <=num:\n",
        "    if num % i==0:\n",
        "        count+=1\n",
        "    i+=1\n",
        "\n",
        "if count ==2:\n",
        "    print(\"Prime number\")\n",
        "else:\n",
        "    print(\"Not Prime number\")\n"
      ],
      "metadata": {
        "colab": {
          "base_uri": "https://localhost:8080/"
        },
        "id": "1dbaBVblMc8z",
        "outputId": "6c4de7f4-966f-4a52-cac0-bb1ce3a3012a"
      },
      "execution_count": null,
      "outputs": [
        {
          "output_type": "stream",
          "name": "stdout",
          "text": [
            "Enter a number value :7\n",
            "Prime number\n"
          ]
        }
      ]
    },
    {
      "cell_type": "code",
      "source": [
        "num = 10\n",
        "i = 1\n",
        "while num >= i :\n",
        "    print(num, end=\" \")\n",
        "    num-=1"
      ],
      "metadata": {
        "colab": {
          "base_uri": "https://localhost:8080/"
        },
        "id": "vOk5NuDrNerk",
        "outputId": "ab6ebea9-aa37-431f-f373-30e00fb1d3dd"
      },
      "execution_count": null,
      "outputs": [
        {
          "output_type": "stream",
          "name": "stdout",
          "text": [
            "10 9 8 7 6 5 4 3 2 1 "
          ]
        }
      ]
    },
    {
      "cell_type": "code",
      "source": [
        "colours=['blue','red','pink','black']\n",
        "print(type(colours))\n",
        "\n",
        "for i in colours:\n",
        "  print(i)"
      ],
      "metadata": {
        "colab": {
          "base_uri": "https://localhost:8080/"
        },
        "id": "7ky4uBWbk35V",
        "outputId": "2409c68e-6369-4357-8f16-4e8a3c0de509"
      },
      "execution_count": 64,
      "outputs": [
        {
          "output_type": "stream",
          "name": "stdout",
          "text": [
            "<class 'list'>\n",
            "blue\n",
            "red\n",
            "pink\n",
            "black\n"
          ]
        }
      ]
    },
    {
      "cell_type": "code",
      "source": [
        "name = \"KLE BK BCA COLLEGE in chikodi\"\n",
        "rev = \"\"\n",
        "for i in name :\n",
        "    rev = i + rev\n",
        "print(rev)"
      ],
      "metadata": {
        "colab": {
          "base_uri": "https://localhost:8080/"
        },
        "id": "47l5iljJmZqh",
        "outputId": "22cc388e-38a8-4f8c-b03d-f2af784824cb"
      },
      "execution_count": 68,
      "outputs": [
        {
          "output_type": "stream",
          "name": "stdout",
          "text": [
            "idokihc ni EGELLOC ACB KB ELK\n"
          ]
        }
      ]
    },
    {
      "cell_type": "code",
      "source": [
        "for i in range(10):\n",
        "    print(i)"
      ],
      "metadata": {
        "colab": {
          "base_uri": "https://localhost:8080/"
        },
        "id": "UJSB5VxkvtfC",
        "outputId": "0ff7f3d7-e19f-4d36-d30d-6a8a4d6a4a77"
      },
      "execution_count": 70,
      "outputs": [
        {
          "output_type": "stream",
          "name": "stdout",
          "text": [
            "0\n",
            "1\n",
            "2\n",
            "3\n",
            "4\n",
            "5\n",
            "6\n",
            "7\n",
            "8\n",
            "9\n"
          ]
        }
      ]
    },
    {
      "cell_type": "code",
      "source": [
        "sum = 0\n",
        "for i in range(1,11):\n",
        "    sum+=i\n",
        "    print(\"sum of N Natural numbers is \",sum)\n",
        "    print(\"2 *\",i,\"=\",num*i)"
      ],
      "metadata": {
        "colab": {
          "base_uri": "https://localhost:8080/"
        },
        "id": "TLOxqzrazLLs",
        "outputId": "0809dbb3-1cc7-4d02-e805-b4171dcd276c"
      },
      "execution_count": 73,
      "outputs": [
        {
          "output_type": "stream",
          "name": "stdout",
          "text": [
            "sum of N Natural numbers is  1\n",
            "2 * 1 = 10\n",
            "sum of N Natural numbers is  3\n",
            "2 * 2 = 20\n",
            "sum of N Natural numbers is  6\n",
            "2 * 3 = 30\n",
            "sum of N Natural numbers is  10\n",
            "2 * 4 = 40\n",
            "sum of N Natural numbers is  15\n",
            "2 * 5 = 50\n",
            "sum of N Natural numbers is  21\n",
            "2 * 6 = 60\n",
            "sum of N Natural numbers is  28\n",
            "2 * 7 = 70\n",
            "sum of N Natural numbers is  36\n",
            "2 * 8 = 80\n",
            "sum of N Natural numbers is  45\n",
            "2 * 9 = 90\n",
            "sum of N Natural numbers is  55\n",
            "2 * 10 = 100\n"
          ]
        }
      ]
    },
    {
      "cell_type": "code",
      "source": [
        "num = 2\n",
        "for i in range(1,33):\n",
        "    print(\"2 *\",i,\"=\",num*i)"
      ],
      "metadata": {
        "colab": {
          "base_uri": "https://localhost:8080/"
        },
        "id": "lQwqwb_g13fJ",
        "outputId": "43d69fa5-0cc7-49db-dfc9-2fa966ecbc30"
      },
      "execution_count": 74,
      "outputs": [
        {
          "output_type": "stream",
          "name": "stdout",
          "text": [
            "2 * 1 = 2\n",
            "2 * 2 = 4\n",
            "2 * 3 = 6\n",
            "2 * 4 = 8\n",
            "2 * 5 = 10\n",
            "2 * 6 = 12\n",
            "2 * 7 = 14\n",
            "2 * 8 = 16\n",
            "2 * 9 = 18\n",
            "2 * 10 = 20\n",
            "2 * 11 = 22\n",
            "2 * 12 = 24\n",
            "2 * 13 = 26\n",
            "2 * 14 = 28\n",
            "2 * 15 = 30\n",
            "2 * 16 = 32\n",
            "2 * 17 = 34\n",
            "2 * 18 = 36\n",
            "2 * 19 = 38\n",
            "2 * 20 = 40\n",
            "2 * 21 = 42\n",
            "2 * 22 = 44\n",
            "2 * 23 = 46\n",
            "2 * 24 = 48\n",
            "2 * 25 = 50\n",
            "2 * 26 = 52\n",
            "2 * 27 = 54\n",
            "2 * 28 = 56\n",
            "2 * 29 = 58\n",
            "2 * 30 = 60\n",
            "2 * 31 = 62\n",
            "2 * 32 = 64\n"
          ]
        }
      ]
    },
    {
      "cell_type": "code",
      "source": [
        "fact = 1\n",
        "for i in range(1,6):\n",
        "    fact = fact* i\n",
        "print(\"factorial number is :\",fact)"
      ],
      "metadata": {
        "colab": {
          "base_uri": "https://localhost:8080/"
        },
        "id": "oVw_sd_J4Kae",
        "outputId": "db14555e-e7dc-431d-fd8e-6b769c8450a0"
      },
      "execution_count": 75,
      "outputs": [
        {
          "output_type": "stream",
          "name": "stdout",
          "text": [
            "factorial number is : 120\n"
          ]
        }
      ]
    },
    {
      "cell_type": "code",
      "source": [
        "# Fiboncacci series/ number using for loop\n",
        "# 0 1 1 2 3 5 8 13 21 34 55 89 144\n",
        "a, b = 0,1\n",
        "for i in range(1,14):\n",
        "    print(a,end=\" \")\n",
        "    a, b = b, a+b\n"
      ],
      "metadata": {
        "colab": {
          "base_uri": "https://localhost:8080/"
        },
        "id": "2R2yTT1W7E6t",
        "outputId": "e5d0f29c-9c5f-4cdf-f709-c1c028cd49f9"
      },
      "execution_count": 76,
      "outputs": [
        {
          "output_type": "stream",
          "name": "stdout",
          "text": [
            "0 1 1 2 3 5 8 13 21 34 55 89 144 "
          ]
        }
      ]
    }
  ]
}