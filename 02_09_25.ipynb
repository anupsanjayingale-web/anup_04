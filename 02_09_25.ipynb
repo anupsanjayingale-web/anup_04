{
  "cells": [
    {
      "cell_type": "code",
      "execution_count": null,
      "metadata": {
        "colab": {
          "base_uri": "https://localhost:8080/"
        },
        "id": "crhx51CSn_iq",
        "outputId": "62522226-a24c-4c0a-c95d-e959dd158068"
      },
      "outputs": [
        {
          "name": "stdout",
          "output_type": "stream",
          "text": [
            "Shivu\n"
          ]
        }
      ],
      "source": [
        "print(\"Shivu\")"
      ]
    },
    {
      "cell_type": "code",
      "execution_count": null,
      "metadata": {
        "colab": {
          "base_uri": "https://localhost:8080/"
        },
        "id": "EiWN1yUeoKKG",
        "outputId": "81e83e94-aec9-4851-f50c-2e765df493e4"
      },
      "outputs": [
        {
          "name": "stdout",
          "output_type": "stream",
          "text": [
            "10\n"
          ]
        }
      ],
      "source": [
        "print(2+8)"
      ]
    },
    {
      "cell_type": "code",
      "execution_count": null,
      "metadata": {
        "colab": {
          "base_uri": "https://localhost:8080/"
        },
        "id": "-b9Cxzi4oUFJ",
        "outputId": "78caa292-8515-4170-8592-5463a72e0231"
      },
      "outputs": [
        {
          "name": "stdout",
          "output_type": "stream",
          "text": [
            "111\n"
          ]
        }
      ],
      "source": [
        "a=111\n",
        "print(a)"
      ]
    },
    {
      "cell_type": "code",
      "execution_count": null,
      "metadata": {
        "colab": {
          "base_uri": "https://localhost:8080/"
        },
        "id": "BDStQW68iTyz",
        "outputId": "5dc2232e-9128-4eb7-a9aa-80bbacc93faa"
      },
      "outputs": [
        {
          "name": "stdout",
          "output_type": "stream",
          "text": [
            "10\n"
          ]
        }
      ],
      "source": [
        "Total_Fruits=10\n",
        "print(Total_Fruits)\n"
      ]
    },
    {
      "cell_type": "code",
      "execution_count": null,
      "metadata": {
        "colab": {
          "base_uri": "https://localhost:8080/"
        },
        "id": "QYct1ruhjQbE",
        "outputId": "202cf612-2678-40b8-c583-affb0a4103b6"
      },
      "outputs": [
        {
          "name": "stdout",
          "output_type": "stream",
          "text": [
            "water\n"
          ]
        }
      ],
      "source": [
        "Bottle=\"water\"\n",
        "print(Bottle)"
      ]
    },
    {
      "cell_type": "code",
      "execution_count": null,
      "metadata": {
        "colab": {
          "base_uri": "https://localhost:8080/"
        },
        "id": "OC5rPw-YjkdT",
        "outputId": "e7100769-13e5-4b34-9ec7-17879bac3813"
      },
      "outputs": [
        {
          "name": "stdout",
          "output_type": "stream",
          "text": [
            "100\n"
          ]
        }
      ],
      "source": [
        "Firest_number=40\n",
        "Second_number=60\n",
        "Total=Firest_number+Second_number\n",
        "print(Total                                                                                                                                                                                                                                                                                                                                                   )"
      ]
    },
    {
      "cell_type": "code",
      "execution_count": null,
      "metadata": {
        "colab": {
          "base_uri": "https://localhost:8080/"
        },
        "id": "wNfHXgL4oFHu",
        "outputId": "02303d25-f7f1-4782-8d1e-6065f40c1ec7"
      },
      "outputs": [
        {
          "name": "stdout",
          "output_type": "stream",
          "text": [
            "student\n"
          ]
        }
      ],
      "source": [
        "Class=\"student\"\n",
        "print(Class)"
      ]
    },
    {
      "cell_type": "code",
      "execution_count": null,
      "metadata": {
        "colab": {
          "base_uri": "https://localhost:8080/"
        },
        "id": "eXKeumudo5ZW",
        "outputId": "203d600c-d6ab-43f5-aab7-19ffb20327ff"
      },
      "outputs": [
        {
          "name": "stdout",
          "output_type": "stream",
          "text": [
            "30\n"
          ]
        }
      ],
      "source": [
        "a=5\n",
        "b=6\n",
        "c=(a*b)\n",
        "print(c)"
      ]
    },
    {
      "cell_type": "code",
      "execution_count": null,
      "metadata": {
        "colab": {
          "base_uri": "https://localhost:8080/"
        },
        "id": "de5QqUoFpUrU",
        "outputId": "3e1ed5d6-ac58-4fca-90f8-49023fe64aa0"
      },
      "outputs": [
        {
          "name": "stdout",
          "output_type": "stream",
          "text": [
            "2.0\n"
          ]
        }
      ],
      "source": [
        "a=12\n",
        "b=6\n",
        "c=(a/b)\n",
        "print(c)"
      ]
    },
    {
      "cell_type": "code",
      "execution_count": null,
      "metadata": {
        "colab": {
          "base_uri": "https://localhost:8080/"
        },
        "id": "LrvLTCbpqG5V",
        "outputId": "cf6aa914-3bab-47b4-c362-a412d211dd8d"
      },
      "outputs": [
        {
          "name": "stdout",
          "output_type": "stream",
          "text": [
            "Its a programmig\n"
          ]
        }
      ],
      "source": [
        "Python=\"Its a programmig\"\n",
        "print(Python)"
      ]
    },
    {
      "cell_type": "code",
      "execution_count": null,
      "metadata": {
        "colab": {
          "base_uri": "https://localhost:8080/"
        },
        "id": "W4tmsQzQqzyN",
        "outputId": "756accf7-502a-4b31-ba57-baa6c4602238"
      },
      "outputs": [
        {
          "name": "stdout",
          "output_type": "stream",
          "text": [
            "my fav language\n"
          ]
        }
      ],
      "source": [
        "Python=\"my fav language\"\n",
        "print(Python)"
      ]
    },
    {
      "cell_type": "code",
      "execution_count": null,
      "metadata": {
        "colab": {
          "base_uri": "https://localhost:8080/"
        },
        "id": "4utbYe8xtfU0",
        "outputId": "11792e11-3c05-4a5f-8a55-d2ece62f6840"
      },
      "outputs": [
        {
          "name": "stdout",
          "output_type": "stream",
          "text": [
            "Basavaprabhu kore\n",
            " BK collage\n",
            " Chikodi\n",
            "\n"
          ]
        }
      ],
      "source": [
        "collage_name=(\"Basavaprabhu kore\\n BK collage\\n Chikodi\\n\")\n",
        "print(collage_name)"
      ]
    },
    {
      "cell_type": "code",
      "execution_count": null,
      "metadata": {
        "colab": {
          "base_uri": "https://localhost:8080/"
        },
        "id": "-7YOWH6ewU30",
        "outputId": "edbb343a-7d0e-43c0-f239-c3c84b84a5de"
      },
      "outputs": [
        {
          "name": "stdout",
          "output_type": "stream",
          "text": [
            "my name is Shivu\n"
          ]
        }
      ],
      "source": [
        "A=(\"my name is Shivu\")\n",
        "print(A)\n"
      ]
    },
    {
      "cell_type": "code",
      "execution_count": null,
      "metadata": {
        "id": "7bU8rMRKxOpE"
      },
      "outputs": [],
      "source": [
        "name=(\"shiva\")\n",
        "b=\"i am 18 yeard old\"\n",
        "print=(\"my name is a\",name, b)"
      ]
    }
  ],
  "metadata": {
    "colab": {
      "provenance": []
    },
    "kernelspec": {
      "display_name": "Python 3",
      "name": "python3"
    },
    "language_info": {
      "name": "python"
    }
  },
  "nbformat": 4,
  "nbformat_minor": 0
}